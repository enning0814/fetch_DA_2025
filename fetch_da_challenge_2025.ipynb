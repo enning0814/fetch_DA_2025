{
 "cells": [
  {
   "cell_type": "markdown",
   "metadata": {
    "application/vnd.databricks.v1+cell": {
     "cellMetadata": {},
     "inputWidgets": {},
     "nuid": "74a5dce1-b21a-4cb0-ba5c-46ff037c3acc",
     "showTitle": false,
     "tableResultSettingsMap": {},
     "title": ""
    }
   },
   "source": [
    "# 0. Read Data"
   ]
  },
  {
   "cell_type": "code",
   "execution_count": 0,
   "metadata": {
    "application/vnd.databricks.v1+cell": {
     "cellMetadata": {
      "byteLimit": 2048000,
      "rowLimit": 10000
     },
     "inputWidgets": {},
     "nuid": "d2eb4d2c-5896-45fc-9f6b-42624ee85252",
     "showTitle": false,
     "tableResultSettingsMap": {},
     "title": ""
    }
   },
   "outputs": [],
   "source": [
    "users = spark.read.format(\"delta\").load(\"dbfs:/user/hive/warehouse/user_takehome\")\n",
    "products = spark.read.format(\"delta\").load(\"dbfs:/user/hive/warehouse/products_takehome\")\n",
    "transactions = spark.read.format(\"delta\").load(\"dbfs:/user/hive/warehouse/transaction_takehome\")\n",
    "\n",
    "# convert it to SQL\n",
    "users.createOrReplaceTempView(\"users\")\n",
    "products.createOrReplaceTempView(\"products\")\n",
    "transactions.createOrReplaceTempView(\"transactions\")\n",
    "\n",
    "# convert it to Pandas dataframe\n",
    "df_users = users.toPandas()\n",
    "df_products = products.toPandas()\n",
    "df_transactions = transactions.toPandas()"
   ]
  },
  {
   "cell_type": "markdown",
   "metadata": {
    "application/vnd.databricks.v1+cell": {
     "cellMetadata": {},
     "inputWidgets": {},
     "nuid": "700d11a1-478c-4319-a646-3b9d03d5ef56",
     "showTitle": false,
     "tableResultSettingsMap": {},
     "title": ""
    }
   },
   "source": [
    "# 1. Explore the Data"
   ]
  },
  {
   "cell_type": "markdown",
   "metadata": {
    "application/vnd.databricks.v1+cell": {
     "cellMetadata": {},
     "inputWidgets": {},
     "nuid": "6517a250-3460-4f8f-8fbe-1ce0aa0b5c9c",
     "showTitle": false,
     "tableResultSettingsMap": {},
     "title": ""
    }
   },
   "source": [
    "## 1.1 General Missing Data Info"
   ]
  },
  {
   "cell_type": "code",
   "execution_count": 0,
   "metadata": {
    "application/vnd.databricks.v1+cell": {
     "cellMetadata": {
      "byteLimit": 2048000,
      "rowLimit": 10000
     },
     "inputWidgets": {},
     "nuid": "4e56a9b7-ec97-4209-bac5-ea9a22dcdcd9",
     "showTitle": false,
     "tableResultSettingsMap": {},
     "title": ""
    }
   },
   "outputs": [
    {
     "output_type": "stream",
     "name": "stdout",
     "output_type": "stream",
     "text": [
      "<class 'pandas.core.frame.DataFrame'>\nRangeIndex: 100000 entries, 0 to 99999\nData columns (total 6 columns):\n #   Column        Non-Null Count   Dtype         \n---  ------        --------------   -----         \n 0   ID            100000 non-null  object        \n 1   CREATED_DATE  100000 non-null  datetime64[ns]\n 2   BIRTH_DATE    96325 non-null   datetime64[ns]\n 3   STATE         95188 non-null   object        \n 4   LANGUAGE      69492 non-null   object        \n 5   GENDER        94108 non-null   object        \ndtypes: datetime64[ns](2), object(4)\nmemory usage: 4.6+ MB\n"
     ]
    }
   ],
   "source": [
    "# Some users don't have complete demographic information\n",
    "df_users.info()"
   ]
  },
  {
   "cell_type": "code",
   "execution_count": 0,
   "metadata": {
    "application/vnd.databricks.v1+cell": {
     "cellMetadata": {
      "byteLimit": 2048000,
      "rowLimit": 10000
     },
     "inputWidgets": {},
     "nuid": "75a6653f-b5b8-49ed-b620-5cb8f90b1663",
     "showTitle": false,
     "tableResultSettingsMap": {},
     "title": ""
    }
   },
   "outputs": [
    {
     "output_type": "stream",
     "name": "stdout",
     "output_type": "stream",
     "text": [
      "<class 'pandas.core.frame.DataFrame'>\nRangeIndex: 845552 entries, 0 to 845551\nData columns (total 7 columns):\n #   Column        Non-Null Count   Dtype  \n---  ------        --------------   -----  \n 0   CATEGORY_1    845441 non-null  object \n 1   CATEGORY_2    844128 non-null  object \n 2   CATEGORY_3    784986 non-null  object \n 3   CATEGORY_4    67459 non-null   object \n 4   MANUFACTURER  619078 non-null  object \n 5   BRAND         619080 non-null  object \n 6   BARCODE       841527 non-null  float64\ndtypes: float64(1), object(6)\nmemory usage: 45.2+ MB\n"
     ]
    }
   ],
   "source": [
    "# Some products don't have Barcodes\n",
    "# Some products have incomplete category, brand, and manufacturer information\n",
    "df_products.info()"
   ]
  },
  {
   "cell_type": "code",
   "execution_count": 0,
   "metadata": {
    "application/vnd.databricks.v1+cell": {
     "cellMetadata": {
      "byteLimit": 2048000,
      "rowLimit": 10000
     },
     "inputWidgets": {},
     "nuid": "47d92e19-faee-4d53-b110-cdb26bf8f90d",
     "showTitle": false,
     "tableResultSettingsMap": {},
     "title": ""
    }
   },
   "outputs": [
    {
     "output_type": "stream",
     "name": "stdout",
     "output_type": "stream",
     "text": [
      "<class 'pandas.core.frame.DataFrame'>\nRangeIndex: 50000 entries, 0 to 49999\nData columns (total 8 columns):\n #   Column          Non-Null Count  Dtype         \n---  ------          --------------  -----         \n 0   RECEIPT_ID      50000 non-null  object        \n 1   PURCHASE_DATE   50000 non-null  object        \n 2   SCAN_DATE       50000 non-null  datetime64[ns]\n 3   STORE_NAME      50000 non-null  object        \n 4   USER_ID         50000 non-null  object        \n 5   BARCODE         44238 non-null  float64       \n 6   FINAL_QUANTITY  50000 non-null  object        \n 7   FINAL_SALE      50000 non-null  object        \ndtypes: datetime64[ns](1), float64(1), object(6)\nmemory usage: 3.1+ MB\n"
     ]
    }
   ],
   "source": [
    "# Some transactions don't have Barcodes\n",
    "df_transactions.info()"
   ]
  },
  {
   "cell_type": "markdown",
   "metadata": {
    "application/vnd.databricks.v1+cell": {
     "cellMetadata": {},
     "inputWidgets": {},
     "nuid": "e95ae031-013f-4b81-bd84-871e4dc785b4",
     "showTitle": false,
     "tableResultSettingsMap": {},
     "title": ""
    }
   },
   "source": [
    "## 1.2 Data type mismatch"
   ]
  },
  {
   "cell_type": "code",
   "execution_count": 0,
   "metadata": {
    "application/vnd.databricks.v1+cell": {
     "cellMetadata": {
      "byteLimit": 2048000,
      "rowLimit": 10000
     },
     "inputWidgets": {},
     "nuid": "bccf8a1f-037e-4570-9461-a1ba5f3ac7c3",
     "showTitle": false,
     "tableResultSettingsMap": {},
     "title": ""
    }
   },
   "outputs": [
    {
     "output_type": "execute_result",
     "data": {
      "text/plain": [
       "array(['1', 'zero', '2', '3', '4', '4.55', '2.83', '2.34', '0.46', '7',\n",
       "       '18', '12', '5', '2.17', '0.23', '8', '1.35', '0.09', '2.58',\n",
       "       '1.47', '16', '0.62', '1.24', '1.4', '0.51', '0.53', '1.69', '6',\n",
       "       '2.39', '2.6', '10', '0.86', '1.54', '1.88', '2.93', '1.28',\n",
       "       '0.65', '2.89', '1.44', '2.75', '1.81', '276', '0.87', '2.1',\n",
       "       '3.33', '2.54', '2.2', '1.93', '1.34', '1.13', '2.19', '0.83',\n",
       "       '2.61', '0.28', '1.5', '0.97', '0.24', '1.18', '6.22', '1.22',\n",
       "       '1.23', '2.57', '1.07', '2.11', '0.48', '9', '3.11', '1.08',\n",
       "       '5.53', '1.89', '0.01', '2.18', '1.99', '0.04', '2.25', '1.37',\n",
       "       '3.02', '0.35', '0.99', '1.8', '3.24', '0.94', '2.04', '3.69',\n",
       "       '0.7', '2.52', '2.27'], dtype=object)"
      ]
     },
     "execution_count": 22,
     "metadata": {},
     "output_type": "execute_result"
    }
   ],
   "source": [
    "# FINAL_QUANTITY is a string, but it should be an integer or decimal\n",
    "# There is a value 'zero', which should be converted to '0'\n",
    "df_transactions.FINAL_QUANTITY.unique()"
   ]
  },
  {
   "cell_type": "markdown",
   "metadata": {
    "application/vnd.databricks.v1+cell": {
     "cellMetadata": {},
     "inputWidgets": {},
     "nuid": "cea20e36-b78c-4fa6-9c63-d20d10f8ec20",
     "showTitle": false,
     "tableResultSettingsMap": {},
     "title": ""
    }
   },
   "source": [
    "## 1.3 Columns (fields) are hard to understand"
   ]
  },
  {
   "cell_type": "markdown",
   "metadata": {
    "application/vnd.databricks.v1+cell": {
     "cellMetadata": {},
     "inputWidgets": {},
     "nuid": "b282ba19-e9b9-43ec-8a1b-a9416984e3d8",
     "showTitle": false,
     "tableResultSettingsMap": {},
     "title": ""
    }
   },
   "source": [
    "### 1.3.1 FINAL_SALE"
   ]
  },
  {
   "cell_type": "code",
   "execution_count": 0,
   "metadata": {
    "application/vnd.databricks.v1+cell": {
     "cellMetadata": {
      "byteLimit": 2048000,
      "implicitDf": true,
      "rowLimit": 10000
     },
     "inputWidgets": {},
     "nuid": "54cf3a0e-cd5b-498a-b4b4-f379099ebdf4",
     "showTitle": false,
     "tableResultSettingsMap": {},
     "title": ""
    }
   },
   "outputs": [
    {
     "output_type": "display_data",
     "data": {
      "text/html": [
       "<style scoped>\n",
       "  .table-result-container {\n",
       "    max-height: 300px;\n",
       "    overflow: auto;\n",
       "  }\n",
       "  table, th, td {\n",
       "    border: 1px solid black;\n",
       "    border-collapse: collapse;\n",
       "  }\n",
       "  th, td {\n",
       "    padding: 5px;\n",
       "  }\n",
       "  th {\n",
       "    text-align: left;\n",
       "  }\n",
       "</style><div class='table-result-container'><table class='table-result'><thead style='background-color: white'><tr><th>RECEIPT_ID</th><th>PURCHASE_DATE</th><th>SCAN_DATE</th><th>STORE_NAME</th><th>USER_ID</th><th>BARCODE</th><th>FINAL_QUANTITY</th><th>FINAL_SALE</th></tr></thead><tbody><tr><td>0000d256-4041-4a3e-adc4-5623fb6e0c99</td><td>2024-08-21</td><td>2024-08-21T14:19:06.539Z</td><td>WALMART</td><td>63b73a7f3d310dceeabd4758</td><td>15300014978</td><td>1</td><td>1.54</td></tr><tr><td>0000d256-4041-4a3e-adc4-5623fb6e0c99</td><td>2024-08-21</td><td>2024-08-21T14:19:06.539Z</td><td>WALMART</td><td>63b73a7f3d310dceeabd4758</td><td>15300014978</td><td>1</td><td> </td></tr><tr><td>0001455d-7a92-4a7b-a1d2-c747af1c8fd3</td><td>2024-07-20</td><td>2024-07-20T09:50:24.206Z</td><td>ALDI</td><td>62c08877baa38d1a1f6c211a</td><td>null</td><td>1</td><td>1.49</td></tr><tr><td>0001455d-7a92-4a7b-a1d2-c747af1c8fd3</td><td>2024-07-20</td><td>2024-07-20T09:50:24.206Z</td><td>ALDI</td><td>62c08877baa38d1a1f6c211a</td><td>null</td><td>zero</td><td>1.49</td></tr><tr><td>00017e0a-7851-42fb-bfab-0baa96e23586</td><td>2024-08-18</td><td>2024-08-19T15:38:56.813Z</td><td>WALMART</td><td>60842f207ac8b7729e472020</td><td>78742229751</td><td>1</td><td> </td></tr><tr><td>00017e0a-7851-42fb-bfab-0baa96e23586</td><td>2024-08-18</td><td>2024-08-19T15:38:56.813Z</td><td>WALMART</td><td>60842f207ac8b7729e472020</td><td>78742229751</td><td>1</td><td>2.54</td></tr><tr><td>000239aa-3478-453d-801e-66a82e39c8af</td><td>2024-06-18</td><td>2024-06-19T11:03:37.468Z</td><td>FOOD LION</td><td>63fcd7cea4f8442c3386b589</td><td>783400000000</td><td>1</td><td>3.49</td></tr><tr><td>000239aa-3478-453d-801e-66a82e39c8af</td><td>2024-06-18</td><td>2024-06-19T11:03:37.468Z</td><td>FOOD LION</td><td>63fcd7cea4f8442c3386b589</td><td>783400000000</td><td>zero</td><td>3.49</td></tr><tr><td>00026b4c-dfe8-49dd-b026-4c2f0fd5c6a1</td><td>2024-07-04</td><td>2024-07-05T15:56:43.549Z</td><td>RANDALLS</td><td>6193231ae9b3d75037b0f928</td><td>47900501183</td><td>1</td><td>5.29</td></tr><tr><td>00026b4c-dfe8-49dd-b026-4c2f0fd5c6a1</td><td>2024-07-04</td><td>2024-07-05T15:56:43.549Z</td><td>RANDALLS</td><td>6193231ae9b3d75037b0f928</td><td>47900501183</td><td>1</td><td> </td></tr></tbody></table></div>"
      ]
     },
     "metadata": {
      "application/vnd.databricks.v1+output": {
       "addedWidgets": {},
       "aggData": [],
       "aggError": "",
       "aggOverflow": false,
       "aggSchema": [],
       "aggSeriesLimitReached": false,
       "aggType": "",
       "arguments": {},
       "columnCustomDisplayInfos": {},
       "data": [
        [
         "0000d256-4041-4a3e-adc4-5623fb6e0c99",
         "2024-08-21",
         "2024-08-21T14:19:06.539Z",
         "WALMART",
         "63b73a7f3d310dceeabd4758",
         15300014978,
         "1",
         "1.54"
        ],
        [
         "0000d256-4041-4a3e-adc4-5623fb6e0c99",
         "2024-08-21",
         "2024-08-21T14:19:06.539Z",
         "WALMART",
         "63b73a7f3d310dceeabd4758",
         15300014978,
         "1",
         " "
        ],
        [
         "0001455d-7a92-4a7b-a1d2-c747af1c8fd3",
         "2024-07-20",
         "2024-07-20T09:50:24.206Z",
         "ALDI",
         "62c08877baa38d1a1f6c211a",
         null,
         "1",
         "1.49"
        ],
        [
         "0001455d-7a92-4a7b-a1d2-c747af1c8fd3",
         "2024-07-20",
         "2024-07-20T09:50:24.206Z",
         "ALDI",
         "62c08877baa38d1a1f6c211a",
         null,
         "zero",
         "1.49"
        ],
        [
         "00017e0a-7851-42fb-bfab-0baa96e23586",
         "2024-08-18",
         "2024-08-19T15:38:56.813Z",
         "WALMART",
         "60842f207ac8b7729e472020",
         78742229751,
         "1",
         " "
        ],
        [
         "00017e0a-7851-42fb-bfab-0baa96e23586",
         "2024-08-18",
         "2024-08-19T15:38:56.813Z",
         "WALMART",
         "60842f207ac8b7729e472020",
         78742229751,
         "1",
         "2.54"
        ],
        [
         "000239aa-3478-453d-801e-66a82e39c8af",
         "2024-06-18",
         "2024-06-19T11:03:37.468Z",
         "FOOD LION",
         "63fcd7cea4f8442c3386b589",
         783400000000,
         "1",
         "3.49"
        ],
        [
         "000239aa-3478-453d-801e-66a82e39c8af",
         "2024-06-18",
         "2024-06-19T11:03:37.468Z",
         "FOOD LION",
         "63fcd7cea4f8442c3386b589",
         783400000000,
         "zero",
         "3.49"
        ],
        [
         "00026b4c-dfe8-49dd-b026-4c2f0fd5c6a1",
         "2024-07-04",
         "2024-07-05T15:56:43.549Z",
         "RANDALLS",
         "6193231ae9b3d75037b0f928",
         47900501183,
         "1",
         "5.29"
        ],
        [
         "00026b4c-dfe8-49dd-b026-4c2f0fd5c6a1",
         "2024-07-04",
         "2024-07-05T15:56:43.549Z",
         "RANDALLS",
         "6193231ae9b3d75037b0f928",
         47900501183,
         "1",
         " "
        ]
       ],
       "datasetInfos": [],
       "dbfsResultPath": null,
       "isJsonSchema": true,
       "metadata": {
        "createTempViewForImplicitDf": true,
        "dataframeName": "_sqldf",
        "executionCount": 93
       },
       "overflow": false,
       "plotOptions": {
        "customPlotOptions": {},
        "displayType": "table",
        "pivotAggregation": null,
        "pivotColumns": null,
        "xColumns": null,
        "yColumns": null
       },
       "removedWidgets": [],
       "schema": [
        {
         "metadata": "{}",
         "name": "RECEIPT_ID",
         "type": "\"string\""
        },
        {
         "metadata": "{\"__detected_date_formats\":\"M/d/yyyy\"}",
         "name": "PURCHASE_DATE",
         "type": "\"date\""
        },
        {
         "metadata": "{}",
         "name": "SCAN_DATE",
         "type": "\"timestamp\""
        },
        {
         "metadata": "{}",
         "name": "STORE_NAME",
         "type": "\"string\""
        },
        {
         "metadata": "{}",
         "name": "USER_ID",
         "type": "\"string\""
        },
        {
         "metadata": "{}",
         "name": "BARCODE",
         "type": "\"long\""
        },
        {
         "metadata": "{}",
         "name": "FINAL_QUANTITY",
         "type": "\"string\""
        },
        {
         "metadata": "{}",
         "name": "FINAL_SALE",
         "type": "\"string\""
        }
       ],
       "type": "table"
      }
     },
     "output_type": "display_data"
    }
   ],
   "source": [
    "%sql\n",
    "-- Many receipts have duplicate records which have the same purchase date, scan date, store name, user id, barcode, final quantity, but different fianl sale (usually one has a value and the other does not.)\n",
    "SELECT RECEIPT_ID, PURCHASE_DATE, SCAN_DATE, STORE_NAME, USER_ID, BARCODE, FINAL_QUANTITY, FINAL_SALE\n",
    "FROM transactions\n",
    "WHERE RECEIPT_ID in (\n",
    "  SELECT RECEIPT_ID\n",
    "  FROM transactions \n",
    "  GROUP BY RECEIPT_ID\n",
    "  HAVING count(FINAL_QUANTITY) > 1\n",
    ")\n",
    "ORDER BY RECEIPT_ID\n",
    "LIMIT 10"
   ]
  },
  {
   "cell_type": "markdown",
   "metadata": {
    "application/vnd.databricks.v1+cell": {
     "cellMetadata": {},
     "inputWidgets": {},
     "nuid": "d8fb884d-2b13-420b-bdbe-6f658c0a4a8e",
     "showTitle": false,
     "tableResultSettingsMap": {},
     "title": ""
    }
   },
   "source": [
    "### 1.3.2 Duplicate BARCODE with different BRAND name"
   ]
  },
  {
   "cell_type": "code",
   "execution_count": 0,
   "metadata": {
    "application/vnd.databricks.v1+cell": {
     "cellMetadata": {
      "byteLimit": 2048000,
      "implicitDf": true,
      "rowLimit": 10000
     },
     "inputWidgets": {},
     "nuid": "7928f8ea-8b64-4c2a-9332-f4b1a4641387",
     "showTitle": false,
     "tableResultSettingsMap": {},
     "title": ""
    }
   },
   "outputs": [
    {
     "output_type": "display_data",
     "data": {
      "text/html": [
       "<style scoped>\n",
       "  .table-result-container {\n",
       "    max-height: 300px;\n",
       "    overflow: auto;\n",
       "  }\n",
       "  table, th, td {\n",
       "    border: 1px solid black;\n",
       "    border-collapse: collapse;\n",
       "  }\n",
       "  th, td {\n",
       "    padding: 5px;\n",
       "  }\n",
       "  th {\n",
       "    text-align: left;\n",
       "  }\n",
       "</style><div class='table-result-container'><table class='table-result'><thead style='background-color: white'><tr><th>CATEGORY_1</th><th>CATEGORY_2</th><th>CATEGORY_3</th><th>CATEGORY_4</th><th>MANUFACTURER</th><th>BRAND</th><th>BARCODE</th></tr></thead><tbody><tr><td>Snacks</td><td>Candy</td><td>Chocolate Candy</td><td>null</td><td>THE HERSHEY COMPANY</td><td>MR. GOODBAR</td><td>3424407</td></tr><tr><td>Snacks</td><td>Candy</td><td>Mints</td><td>null</td><td>THE HERSHEY COMPANY</td><td>ICE BREAKERS</td><td>3468005</td></tr><tr><td>Health & Wellness</td><td>Skin Care</td><td>Lip Balms & Treatments</td><td>Medicated Lip Treatments</td><td>BLISTEX INC</td><td>BLISTEX</td><td>4138891</td></tr><tr><td>Snacks</td><td>Dessert Toppings</td><td>Ice Cream Sauces & Syrups</td><td>null</td><td>THE HERSHEY COMPANY</td><td>REESE'S</td><td>3408704</td></tr><tr><td>Snacks</td><td>Candy</td><td>Gum</td><td>null</td><td>THE HERSHEY COMPANY</td><td>ICE BREAKERS</td><td>3464502</td></tr><tr><td>Snacks</td><td>Candy</td><td>Gum</td><td>null</td><td>CHICLES CANELS SA DE CV</td><td>CANELS</td><td>75030452</td></tr><tr><td>Snacks</td><td>Candy</td><td>Mints</td><td>null</td><td>THE HERSHEY COMPANY</td><td>ICE BREAKERS</td><td>6811600</td></tr><tr><td>Snacks</td><td>Candy</td><td>Confection Candy</td><td>null</td><td>MARS WRIGLEY</td><td>STARBURST</td><td>400510</td></tr><tr><td>Snacks</td><td>Candy</td><td>Chocolate Candy</td><td>null</td><td>THE HERSHEY COMPANY</td><td>HERSHEY'S</td><td>3447109</td></tr><tr><td>Snacks</td><td>Candy</td><td>Chocolate Candy</td><td>null</td><td>THE HERSHEY COMPANY</td><td>REESE'S</td><td>3421109</td></tr><tr><td>Snacks</td><td>Candy</td><td>Confection Candy</td><td>null</td><td>THE HERSHEY COMPANY</td><td>TWIZZLERS</td><td>3465202</td></tr><tr><td>Snacks</td><td>Candy</td><td>Mints</td><td>null</td><td>THE HERSHEY COMPANY</td><td>ICE BREAKERS</td><td>3475003</td></tr><tr><td>Snacks</td><td>Candy</td><td>Confection Candy</td><td>null</td><td>NESTLE</td><td>ROWNTREES</td><td>50426461</td></tr><tr><td>Snacks</td><td>Dips & Salsa</td><td>Hummus</td><td>null</td><td>TRADER JOE'S</td><td>TRADER JOE'S</td><td>906425</td></tr><tr><td>Snacks</td><td>Candy</td><td>Gum</td><td>null</td><td>THE HERSHEY COMPANY</td><td>ICE BREAKERS</td><td>3498705</td></tr><tr><td>Snacks</td><td>Candy</td><td>Chocolate Candy</td><td>null</td><td>MARS WRIGLEY</td><td>M&M'S</td><td>4043205</td></tr><tr><td>Snacks</td><td>Candy</td><td>Chocolate Candy</td><td>null</td><td>THE HERSHEY COMPANY</td><td>REESE'S</td><td>3442005</td></tr><tr><td>Snacks</td><td>Candy</td><td>Gum</td><td>null</td><td>PERFETTI VAN MELLE</td><td>MENTOS</td><td>80946854</td></tr><tr><td>Snacks</td><td>Candy</td><td>Chocolate Candy</td><td>null</td><td>THE HERSHEY COMPANY</td><td>ALMOND JOY</td><td>3433409</td></tr><tr><td>Snacks</td><td>Candy</td><td>Chocolate Candy</td><td>null</td><td>THE HERSHEY COMPANY</td><td>REESE'S</td><td>3420300</td></tr><tr><td>Snacks</td><td>Candy</td><td>Mints</td><td>null</td><td>THE HERSHEY COMPANY</td><td>ICE BREAKERS</td><td>3400401</td></tr><tr><td>Snacks</td><td>Candy</td><td>Mints</td><td>null</td><td>THE HERSHEY COMPANY</td><td>ICE BREAKERS</td><td>3416303</td></tr><tr><td>Snacks</td><td>Candy</td><td>Confection Candy</td><td>null</td><td>THE HERSHEY COMPANY</td><td>REESE'S</td><td>3431207</td></tr><tr><td>Snacks</td><td>Candy</td><td>Gum</td><td>null</td><td>THE HERSHEY COMPANY</td><td>ICE BREAKERS</td><td>3498705</td></tr><tr><td>Snacks</td><td>Candy</td><td>Confection Candy</td><td>null</td><td>PERFETTI VAN MELLE</td><td>MENTOS</td><td>87108019</td></tr><tr><td>Snacks</td><td>Candy</td><td>Chocolate Candy</td><td>null</td><td>KINDER'S</td><td>KINDER'S</td><td>40084176</td></tr><tr><td>Snacks</td><td>Candy</td><td>Mints</td><td>null</td><td>THE HERSHEY COMPANY</td><td>ICE BREAKERS</td><td>3400609</td></tr><tr><td>Snacks</td><td>Candy</td><td>Chocolate Candy</td><td>null</td><td>THE HERSHEY COMPANY</td><td>REESE'S</td><td>3442005</td></tr><tr><td>Snacks</td><td>Candy</td><td>Chocolate Candy</td><td>null</td><td>THE HERSHEY COMPANY</td><td>REESE'S</td><td>3472705</td></tr><tr><td>Snacks</td><td>Candy</td><td>Chocolate Candy</td><td>null</td><td>THE HERSHEY COMPANY</td><td>ROLO</td><td>3424506</td></tr><tr><td>Snacks</td><td>Candy</td><td>Chocolate Candy</td><td>null</td><td>PLACEHOLDER MANUFACTURER</td><td>BRAND NOT KNOWN</td><td>20293598</td></tr><tr><td>Snacks</td><td>Candy</td><td>Mints</td><td>null</td><td>THE HERSHEY COMPANY</td><td>ICE BREAKERS</td><td>3481202</td></tr><tr><td>Snacks</td><td>Candy</td><td>Chocolate Candy</td><td>null</td><td>THE HERSHEY COMPANY</td><td>WHATCHAMACALLIT</td><td>3429907</td></tr><tr><td>Snacks</td><td>Candy</td><td>Chocolate Candy</td><td>null</td><td>THE HERSHEY COMPANY</td><td>MOUNDS</td><td>3403105</td></tr><tr><td>Snacks</td><td>Candy</td><td>Chocolate Candy</td><td>null</td><td>THE HERSHEY COMPANY</td><td>REESE'S</td><td>3434000</td></tr><tr><td>Snacks</td><td>Candy</td><td>Chocolate Candy</td><td>null</td><td>THE HERSHEY COMPANY</td><td>HERSHEY'S</td><td>3424100</td></tr><tr><td>Snacks</td><td>Candy</td><td>Chocolate Candy</td><td>null</td><td>THE HERSHEY COMPANY</td><td>HERSHEY'S</td><td>3422007</td></tr><tr><td>Snacks</td><td>Candy</td><td>Gum</td><td>null</td><td>THE HERSHEY COMPANY</td><td>ICE BREAKERS</td><td>3491508</td></tr><tr><td>Snacks</td><td>Candy</td><td>Chocolate Candy</td><td>null</td><td>THE HERSHEY COMPANY</td><td>HERSHEY'S</td><td>3424001</td></tr><tr><td>Snacks</td><td>Candy</td><td>Chocolate Candy</td><td>null</td><td>THE MADELAINE CHOCOLATE COMPANY</td><td>MADELAINE CHOCOLATE</td><td>60923158</td></tr><tr><td>Snacks</td><td>Candy</td><td>Chocolate Candy</td><td>null</td><td>THE HERSHEY COMPANY</td><td>ALMOND JOY</td><td>3433409</td></tr><tr><td>Health & Wellness</td><td>Skin Care</td><td>Facial Lotion & Moisturizer</td><td>null</td><td>R.M. PALMER COMPANY, LLC</td><td>PALMER</td><td>1018158</td></tr><tr><td>Snacks</td><td>Pretzels</td><td>Covered Pretzels</td><td>null</td><td>CREATIVE DESIGN</td><td>WONDERSHOP</td><td>11825364</td></tr><tr><td>Snacks</td><td>Candy</td><td>Mints</td><td>null</td><td>THE HERSHEY COMPANY</td><td>ICE BREAKERS</td><td>3409800</td></tr><tr><td>Snacks</td><td>Candy</td><td>Chocolate Candy</td><td>null</td><td>THE HERSHEY COMPANY</td><td>REESE'S</td><td>3450208</td></tr><tr><td>Snacks</td><td>Candy</td><td>Chocolate Candy</td><td>null</td><td>THE HERSHEY COMPANY</td><td>REESE'S</td><td>3460108</td></tr><tr><td>Snacks</td><td>Candy</td><td>Confection Candy</td><td>null</td><td>PERFETTI VAN MELLE</td><td>MENTOS</td><td>87317466</td></tr><tr><td>Snacks</td><td>Candy</td><td>Chocolate Candy</td><td>null</td><td>THE MADELAINE CHOCOLATE COMPANY</td><td>MADELAINE CHOCOLATE</td><td>60941022</td></tr><tr><td>Snacks</td><td>Dessert Toppings</td><td>Ice Cream Sauces & Syrups</td><td>null</td><td>THE HERSHEY COMPANY</td><td>HERSHEY'S</td><td>3451106</td></tr><tr><td>Snacks</td><td>Candy</td><td>Chocolate Candy</td><td>null</td><td>THE HERSHEY COMPANY</td><td>MOUNDS</td><td>3403105</td></tr><tr><td>Snacks</td><td>Candy</td><td>Chocolate Candy</td><td>null</td><td>KINDER'S</td><td>KINDER'S</td><td>80050094</td></tr><tr><td>Snacks</td><td>Candy</td><td>Chocolate Candy</td><td>null</td><td>THE HERSHEY COMPANY</td><td>KIT KAT</td><td>3404607</td></tr><tr><td>Snacks</td><td>Candy</td><td>Chocolate Candy</td><td>null</td><td>LIDL US, LLC</td><td>LIDL</td><td>20725358</td></tr><tr><td>Snacks</td><td>Candy</td><td>Confection Candy</td><td>null</td><td>THE HERSHEY COMPANY</td><td>TWIZZLERS</td><td>3416204</td></tr><tr><td>Snacks</td><td>Candy</td><td>Mints</td><td>null</td><td>THE HERSHEY COMPANY</td><td>ICE BREAKERS</td><td>3468401</td></tr><tr><td>Snacks</td><td>Candy</td><td>Chocolate Candy</td><td>null</td><td>KINDER'S</td><td>KINDER'S</td><td>80310167</td></tr><tr><td>Snacks</td><td>Candy</td><td>Gum</td><td>null</td><td>THE HERSHEY COMPANY</td><td>BUBBLE YUM</td><td>3474105</td></tr><tr><td>Snacks</td><td>Candy</td><td>Gum</td><td>null</td><td>THE HERSHEY COMPANY</td><td>ICE BREAKERS</td><td>3465004</td></tr><tr><td>Snacks</td><td>Candy</td><td>Mints</td><td>null</td><td>THE HERSHEY COMPANY</td><td>ICE BREAKERS</td><td>3416303</td></tr><tr><td>Snacks</td><td>Candy</td><td>Gum</td><td>null</td><td>THE HERSHEY COMPANY</td><td>ICE BREAKERS</td><td>3484708</td></tr><tr><td>Health & Wellness</td><td>First Aid</td><td>Ointments & Liquids</td><td>null</td><td>THE JM SMUCKER COMPANY</td><td>DICKINSON'S</td><td>5265169</td></tr><tr><td>Snacks</td><td>Candy</td><td>Chocolate Candy</td><td>null</td><td>PLACEHOLDER MANUFACTURER</td><td>BRAND NOT KNOWN</td><td>20866280</td></tr><tr><td>Snacks</td><td>Candy</td><td>Mints</td><td>null</td><td>THE HERSHEY COMPANY</td><td>ICE BREAKERS</td><td>3404201</td></tr><tr><td>Snacks</td><td>Candy</td><td>Chocolate Candy</td><td>null</td><td>THE MADELAINE CHOCOLATE COMPANY</td><td>MADELAINE CHOCOLATE</td><td>60908308</td></tr><tr><td>Snacks</td><td>Candy</td><td>Chocolate Candy</td><td>null</td><td>THE HERSHEY COMPANY</td><td>REESE'S</td><td>3451304</td></tr><tr><td>Snacks</td><td>Candy</td><td>Chocolate Candy</td><td>null</td><td>THE HERSHEY COMPANY</td><td>HERSHEY'S</td><td>3424308</td></tr><tr><td>Snacks</td><td>Nuts & Seeds</td><td>Snack Seeds</td><td>null</td><td>SUNRIDGE FARMS</td><td>SUNRIDGE FARMS</td><td>701983</td></tr><tr><td>Snacks</td><td>Candy</td><td>Chocolate Candy</td><td>null</td><td>THE HERSHEY COMPANY</td><td>HERSHEY'S</td><td>3423905</td></tr><tr><td>Snacks</td><td>Candy</td><td>Chocolate Candy</td><td>null</td><td>LIDL US, LLC</td><td>LIDL</td><td>20293567</td></tr><tr><td>Snacks</td><td>Candy</td><td>Chocolate Candy</td><td>null</td><td>THE HERSHEY COMPANY</td><td>REESE'S</td><td>3473108</td></tr><tr><td>Snacks</td><td>Dessert Toppings</td><td>Ice Cream Sauces & Syrups</td><td>null</td><td>THE HERSHEY COMPANY</td><td>HERSHEY'S</td><td>3483602</td></tr><tr><td>Snacks</td><td>Fruit & Vegetable Snacks</td><td>Dried Vegetables</td><td>null</td><td>TRADER JOE'S</td><td>TRADER JOE'S</td><td>853743</td></tr><tr><td>Snacks</td><td>Candy</td><td>Chocolate Candy</td><td>null</td><td>THE HERSHEY COMPANY</td><td>CADBURY</td><td>3468708</td></tr><tr><td>Snacks</td><td>Candy</td><td>Gum</td><td>null</td><td>CHICLES CANELS SA DE CV</td><td>CANELS</td><td>75030452</td></tr><tr><td>Snacks</td><td>Chips</td><td>Crisps</td><td>null</td><td>TRADER JOE'S</td><td>TRADER JOE'S</td><td>701983</td></tr><tr><td>Snacks</td><td>Candy</td><td>Mints</td><td>null</td><td>THE HERSHEY COMPANY</td><td>ICE BREAKERS</td><td>3468401</td></tr><tr><td>Snacks</td><td>Candy</td><td>Mints</td><td>null</td><td>THE HERSHEY COMPANY</td><td>BREATH SAVERS</td><td>3433706</td></tr><tr><td>Snacks</td><td>Candy</td><td>Gum</td><td>null</td><td>THE HERSHEY COMPANY</td><td>BUBBLE YUM</td><td>3481103</td></tr><tr><td>Snacks</td><td>Candy</td><td>Chocolate Candy</td><td>null</td><td>THE HERSHEY COMPANY</td><td>HERSHEY'S KISSES</td><td>3471203</td></tr><tr><td>Snacks</td><td>Candy</td><td>Mints</td><td>null</td><td>THE HERSHEY COMPANY</td><td>ICE BREAKERS</td><td>3483909</td></tr><tr><td>Snacks</td><td>Candy</td><td>Chocolate Candy</td><td>null</td><td>THE HERSHEY COMPANY</td><td>REESE'S</td><td>3448007</td></tr><tr><td>Snacks</td><td>Candy</td><td>Gum</td><td>null</td><td>THE HERSHEY COMPANY</td><td>BUBBLE YUM</td><td>3410103</td></tr><tr><td>Snacks</td><td>Candy</td><td>Gum</td><td>null</td><td>THE HERSHEY COMPANY</td><td>ICE BREAKERS</td><td>3465103</td></tr><tr><td>Snacks</td><td>Candy</td><td>Chocolate Candy</td><td>null</td><td>THE HERSHEY COMPANY</td><td>HEATH</td><td>3460504</td></tr><tr><td>Snacks</td><td>Candy</td><td>Chocolate Candy</td><td>null</td><td>THE HERSHEY COMPANY</td><td>REESE'S</td><td>3451304</td></tr><tr><td>Snacks</td><td>Candy</td><td>Chocolate Candy</td><td>null</td><td>THE HERSHEY COMPANY</td><td>HERSHEY'S</td><td>3424605</td></tr><tr><td>Snacks</td><td>Candy</td><td>Confection Candy</td><td>null</td><td>THE HERSHEY COMPANY</td><td>TWIZZLERS</td><td>3452400</td></tr><tr><td>Snacks</td><td>Candy</td><td>Chocolate Candy</td><td>null</td><td>THE HERSHEY COMPANY</td><td>REESE'S</td><td>3403501</td></tr><tr><td>Health & Wellness</td><td>Hair Removal</td><td>Shaving Gel & Cream</td><td>Women's Shaving Gel & Cream</td><td>PLACEHOLDER MANUFACTURER</td><td>PRORASO</td><td>80199137</td></tr><tr><td>Snacks</td><td>Candy</td><td>Mints</td><td>null</td><td>THE HERSHEY COMPANY</td><td>ICE BREAKERS</td><td>3400203</td></tr><tr><td>Snacks</td><td>Candy</td><td>Chocolate Candy</td><td>null</td><td>THE HERSHEY COMPANY</td><td>WHATCHAMACALLIT</td><td>3429907</td></tr><tr><td>Snacks</td><td>Candy</td><td>Mints</td><td>null</td><td>THE HERSHEY COMPANY</td><td>ICE BREAKERS</td><td>3409800</td></tr><tr><td>Snacks</td><td>Chips</td><td>Crisps</td><td>null</td><td>TRADER JOE'S</td><td>TRADER JOE'S</td><td>952811</td></tr><tr><td>Snacks</td><td>Candy</td><td>Confection Candy</td><td>null</td><td>THE HERSHEY COMPANY</td><td>REESE'S</td><td>3447505</td></tr><tr><td>Snacks</td><td>Dessert Toppings</td><td>Ice Cream Sauces & Syrups</td><td>null</td><td>THE HERSHEY COMPANY</td><td>HERSHEY'S</td><td>3484500</td></tr><tr><td>Snacks</td><td>Candy</td><td>Gum</td><td>null</td><td>THE HERSHEY COMPANY</td><td>BUBBLE YUM</td><td>3481103</td></tr><tr><td>Snacks</td><td>Candy</td><td>Chocolate Candy</td><td>null</td><td>THE HERSHEY COMPANY</td><td>CADBURY</td><td>3454206</td></tr><tr><td>Snacks</td><td>Candy</td><td>Chocolate Candy</td><td>null</td><td>KINDER'S</td><td>KINDER'S</td><td>80177609</td></tr><tr><td>Snacks</td><td>Fruit & Vegetable Snacks</td><td>Fruit Snacks</td><td>null</td><td>LIDL US, LLC</td><td>LIDL</td><td>20744571</td></tr><tr><td>Snacks</td><td>Candy</td><td>Chocolate Candy</td><td>null</td><td>THE HERSHEY COMPANY</td><td>REESE'S</td><td>3448007</td></tr><tr><td>Snacks</td><td>Candy</td><td>Chocolate Candy</td><td>null</td><td>LIDL US, LLC</td><td>LIDL</td><td>20146900</td></tr><tr><td>Snacks</td><td>Candy</td><td>Chocolate Candy</td><td>null</td><td>LIDL US, LLC</td><td>LIDL</td><td>20433871</td></tr><tr><td>Snacks</td><td>Candy</td><td>Chocolate Candy</td><td>null</td><td>THE HERSHEY COMPANY</td><td>REESE'S</td><td>3472705</td></tr><tr><td>Snacks</td><td>Candy</td><td>Chocolate Candy</td><td>null</td><td>NESTLE</td><td>MILKYBAR</td><td>59939498</td></tr><tr><td>Snacks</td><td>Candy</td><td>Mints</td><td>null</td><td>THE HERSHEY COMPANY</td><td>BREATH SAVERS</td><td>3433706</td></tr><tr><td>Snacks</td><td>Dessert Toppings</td><td>Ice Cream Sauces & Syrups</td><td>null</td><td>THE HERSHEY COMPANY</td><td>REESE'S</td><td>3408704</td></tr><tr><td>Health & Wellness</td><td>Hair Care</td><td>Hair Color</td><td>null</td><td>HENKEL</td><td>SCHWARZKOPF</td><td>52336919068</td></tr><tr><td>Snacks</td><td>Candy</td><td>Confection Candy</td><td>null</td><td>THE HERSHEY COMPANY</td><td>TWIZZLERS</td><td>3420003</td></tr><tr><td>Snacks</td><td>Candy</td><td>Chocolate Candy</td><td>null</td><td>KINDER'S</td><td>KINDER'S</td><td>80177616</td></tr><tr><td>Snacks</td><td>Candy</td><td>Gum</td><td>null</td><td>THE HERSHEY COMPANY</td><td>ICE BREAKERS</td><td>3464502</td></tr><tr><td>Snacks</td><td>Candy</td><td>Candy Variety Pack</td><td>null</td><td>THE HERSHEY COMPANY</td><td>HERSHEY'S</td><td>3422007</td></tr><tr><td>Snacks</td><td>Candy</td><td>Chocolate Candy</td><td>null</td><td>THE HERSHEY COMPANY</td><td>HEATH</td><td>3460504</td></tr><tr><td>Snacks</td><td>Candy</td><td>Confection Candy</td><td>null</td><td>LIDL US, LLC</td><td>LIDL</td><td>20744731</td></tr><tr><td>Snacks</td><td>Candy</td><td>Confection Candy</td><td>null</td><td>PERFETTI VAN MELLE</td><td>MENTOS</td><td>87306286</td></tr><tr><td>Snacks</td><td>Candy</td><td>Gum</td><td>null</td><td>THE HERSHEY COMPANY</td><td>ICE BREAKERS</td><td>3484807</td></tr><tr><td>Snacks</td><td>Candy</td><td>Chocolate Candy</td><td>null</td><td>UTZ QUALITY FOODS, LLC</td><td>UTZ</td><td>40876283</td></tr><tr><td>Snacks</td><td>Dessert Toppings</td><td>Ice Cream Sauces & Syrups</td><td>null</td><td>THE HERSHEY COMPANY</td><td>HERSHEY'S</td><td>3451106</td></tr><tr><td>Snacks</td><td>Nuts & Seeds</td><td>Almonds</td><td>null</td><td>PLACEHOLDER MANUFACTURER</td><td>BRAND NOT KNOWN</td><td>20159078</td></tr><tr><td>Snacks</td><td>Candy</td><td>Chocolate Candy</td><td>null</td><td>THE HERSHEY COMPANY</td><td>ROLO</td><td>50251179</td></tr><tr><td>Snacks</td><td>Candy</td><td>Chocolate Candy</td><td>null</td><td>FRONERI</td><td>SKINNY COW</td><td>2818900</td></tr><tr><td>Snacks</td><td>Candy</td><td>Chocolate Candy</td><td>null</td><td>THE HERSHEY COMPANY</td><td>REESE'S</td><td>3403501</td></tr><tr><td>Snacks</td><td>Candy</td><td>Gum</td><td>null</td><td>THE HERSHEY COMPANY</td><td>ICE BREAKERS</td><td>3498507</td></tr><tr><td>Snacks</td><td>Candy</td><td>Chocolate Candy</td><td>null</td><td>THE HERSHEY COMPANY</td><td>REESE'S</td><td>3449608</td></tr><tr><td>Snacks</td><td>Candy</td><td>Confection Candy</td><td>null</td><td>THE HERSHEY COMPANY</td><td>TWIZZLERS</td><td>3465202</td></tr><tr><td>Snacks</td><td>Candy</td><td>Gum</td><td>null</td><td>THE HERSHEY COMPANY</td><td>BUBBLE YUM</td><td>3410103</td></tr><tr><td>Snacks</td><td>Candy</td><td>Chocolate Candy</td><td>null</td><td>THE MADELAINE CHOCOLATE COMPANY</td><td>MADELAINE CHOCOLATE</td><td>60923158</td></tr><tr><td>Snacks</td><td>Candy</td><td>Gum</td><td>null</td><td>THE HERSHEY COMPANY</td><td>ICE BREAKERS</td><td>3498507</td></tr><tr><td>Snacks</td><td>Candy</td><td>Chocolate Candy</td><td>null</td><td>LIDL US, LLC</td><td>LIDL</td><td>20866297</td></tr><tr><td>Snacks</td><td>Candy</td><td>Chocolate Candy</td><td>null</td><td>THE HERSHEY COMPANY</td><td>REESE'S</td><td>3403600</td></tr><tr><td>Snacks</td><td>Chips</td><td>Crisps</td><td>null</td><td>TRADER JOE'S</td><td>TRADER JOE'S</td><td>952811</td></tr><tr><td>Snacks</td><td>Candy</td><td>Chocolate Candy</td><td>null</td><td>THE HERSHEY COMPANY</td><td>CADBURY</td><td>3468708</td></tr><tr><td>Snacks</td><td>Candy</td><td>Chocolate Candy</td><td>null</td><td>KINDER'S</td><td>KINDER'S</td><td>80050094</td></tr><tr><td>Snacks</td><td>Dessert Toppings</td><td>Ice Cream Sauces & Syrups</td><td>null</td><td>THE HERSHEY COMPANY</td><td>HERSHEY'S</td><td>3437001</td></tr><tr><td>Snacks</td><td>Candy</td><td>Chocolate Candy</td><td>null</td><td>THE HERSHEY COMPANY</td><td>KIT KAT</td><td>3465301</td></tr><tr><td>Snacks</td><td>Candy</td><td>Mints</td><td>null</td><td>THE HERSHEY COMPANY</td><td>ICE BREAKERS</td><td>6811600</td></tr><tr><td>Snacks</td><td>Candy</td><td>Confection Candy</td><td>null</td><td>MARS WRIGLEY</td><td>STARBURST</td><td>400510</td></tr><tr><td>Snacks</td><td>Candy</td><td>Confection Candy</td><td>null</td><td>LIDL US, LLC</td><td>LIDL</td><td>20744731</td></tr><tr><td>Snacks</td><td>Candy</td><td>Chocolate Candy</td><td>null</td><td>THE MADELAINE CHOCOLATE COMPANY</td><td>MADELAINE CHOCOLATE</td><td>60941022</td></tr><tr><td>Snacks</td><td>Candy</td><td>Mints</td><td>null</td><td>PERFETTI VAN MELLE</td><td>MENTOS</td><td>87108538</td></tr><tr><td>Snacks</td><td>Candy</td><td>Chocolate Candy</td><td>null</td><td>THE HERSHEY COMPANY</td><td>REESE'S</td><td>3417607</td></tr><tr><td>Snacks</td><td>Candy</td><td>Chocolate Candy</td><td>null</td><td>THE HERSHEY COMPANY</td><td>REESE'S</td><td>3416808</td></tr><tr><td>Snacks</td><td>Nuts & Seeds</td><td>Almonds</td><td>null</td><td>TRADER JOE'S</td><td>TRADER JOE'S</td><td>969307</td></tr><tr><td>Snacks</td><td>Candy</td><td>Mints</td><td>null</td><td>THE HERSHEY COMPANY</td><td>ICE BREAKERS</td><td>3483909</td></tr><tr><td>Snacks</td><td>Candy</td><td>Chocolate Candy</td><td>null</td><td>THE HERSHEY COMPANY</td><td>CADBURY</td><td>3454206</td></tr><tr><td>Snacks</td><td>Crackers</td><td>Graham Crackers</td><td>null</td><td>TRADER JOE'S</td><td>TRADER JOE'S</td><td>438711</td></tr><tr><td>Snacks</td><td>Candy</td><td>Chocolate Candy</td><td>null</td><td>THE HERSHEY COMPANY</td><td>REESE'S</td><td>3480502</td></tr><tr><td>Snacks</td><td>Candy</td><td>Chocolate Candy</td><td>null</td><td>GHIRARDELLI CHOCOLATE COMPANY</td><td>GHIRARDELLI</td><td>36553235</td></tr><tr><td>Snacks</td><td>Candy</td><td>Confection Candy</td><td>null</td><td>THE HERSHEY COMPANY</td><td>TWIZZLERS</td><td>3416204</td></tr><tr><td>Snacks</td><td>Candy</td><td>Chocolate Candy</td><td>null</td><td>THE HERSHEY COMPANY</td><td>REESE'S</td><td>3480502</td></tr><tr><td>Snacks</td><td>Candy</td><td>Chocolate Candy</td><td>null</td><td>THE HERSHEY COMPANY</td><td>ROLO</td><td>50251179</td></tr><tr><td>Snacks</td><td>Dessert Toppings</td><td>Ice Cream Sauces & Syrups</td><td>null</td><td>THE HERSHEY COMPANY</td><td>YORK</td><td>3452905</td></tr><tr><td>Snacks</td><td>Candy</td><td>Gum</td><td>null</td><td>THE HERSHEY COMPANY</td><td>ICE BREAKERS</td><td>3420904</td></tr><tr><td>Snacks</td><td>Candy</td><td>Chocolate Candy</td><td>null</td><td>LIDL US, LLC</td><td>LIDL</td><td>20005832</td></tr><tr><td>Beverages</td><td>Carbonated Soft Drinks</td><td>Cola</td><td>Regular Cola</td><td>THE COCA-COLA COMPANY</td><td>COCA-COLA</td><td>4904403</td></tr><tr><td>Snacks</td><td>Candy</td><td>Chocolate Candy</td><td>null</td><td>THE HERSHEY COMPANY</td><td>REESE'S</td><td>3416808</td></tr><tr><td>Snacks</td><td>Candy</td><td>Chocolate Candy</td><td>null</td><td>THE HERSHEY COMPANY</td><td>HERSHEY'S</td><td>3473801</td></tr><tr><td>Health & Wellness</td><td>Hair Care</td><td>Hair Color</td><td>null</td><td>HENKEL</td><td>GÖT2B</td><td>52336919068</td></tr><tr><td>Snacks</td><td>Candy</td><td>Confection Candy</td><td>null</td><td>THE HERSHEY COMPANY</td><td>TWIZZLERS</td><td>3451502</td></tr><tr><td>Snacks</td><td>Candy</td><td>Chocolate Candy</td><td>null</td><td>THE HERSHEY COMPANY</td><td>REESE'S</td><td>3421109</td></tr><tr><td>Snacks</td><td>Candy</td><td>Mints</td><td>null</td><td>THE HERSHEY COMPANY</td><td>ICE BREAKERS</td><td>3400203</td></tr><tr><td>Snacks</td><td>Candy</td><td>Gum</td><td>null</td><td>GENERAL LICENSED IP MANUFACTURER</td><td>DISNEY</td><td>3484708</td></tr><tr><td>Snacks</td><td>Candy</td><td>Gum</td><td>null</td><td>THE HERSHEY COMPANY</td><td>ICE BREAKERS</td><td>3484807</td></tr><tr><td>Snacks</td><td>Crackers</td><td>Graham Crackers</td><td>null</td><td>PLACEHOLDER MANUFACTURER</td><td>PRIVATE LABEL</td><td>20733056</td></tr><tr><td>Snacks</td><td>Candy</td><td>Gum</td><td>null</td><td>THE HERSHEY COMPANY</td><td>ICE BREAKERS</td><td>3440506</td></tr><tr><td>Snacks</td><td>Candy</td><td>Confection Candy</td><td>null</td><td>THE HERSHEY COMPANY</td><td>TWIZZLERS</td><td>3420003</td></tr><tr><td>Snacks</td><td>Candy</td><td>Chocolate Candy</td><td>null</td><td>THE HERSHEY COMPANY</td><td>HERSHEY'S</td><td>3465608</td></tr><tr><td>Snacks</td><td>Candy</td><td>Mints</td><td>null</td><td>THE HERSHEY COMPANY</td><td>ICE BREAKERS</td><td>3469200</td></tr><tr><td>Snacks</td><td>Candy</td><td>Confection Candy</td><td>null</td><td>THE HERSHEY COMPANY</td><td>REESE'S</td><td>3447505</td></tr><tr><td>Snacks</td><td>Candy</td><td>Chocolate Candy</td><td>null</td><td>THE HERSHEY COMPANY</td><td>HERSHEY'S</td><td>3404003</td></tr><tr><td>Snacks</td><td>Candy</td><td>Gum</td><td>null</td><td>PERFETTI VAN MELLE</td><td>MENTOS</td><td>80946854</td></tr><tr><td>Snacks</td><td>Candy</td><td>Mints</td><td>null</td><td>THE HERSHEY COMPANY</td><td>ICE BREAKERS</td><td>3400609</td></tr><tr><td>Snacks</td><td>Candy</td><td>Mints</td><td>null</td><td>THE HERSHEY COMPANY</td><td>ICE BREAKERS</td><td>3400807</td></tr><tr><td>Snacks</td><td>Candy</td><td>Mints</td><td>null</td><td>THE HERSHEY COMPANY</td><td>ICE BREAKERS</td><td>3400906</td></tr><tr><td>Snacks</td><td>Candy</td><td>Chocolate Candy</td><td>null</td><td>THE HERSHEY COMPANY</td><td>ROLO</td><td>3445204</td></tr><tr><td>Snacks</td><td>Candy</td><td>Chocolate Candy</td><td>null</td><td>THE HERSHEY COMPANY</td><td>SKOR</td><td>3439807</td></tr><tr><td>Snacks</td><td>Fruit & Vegetable Snacks</td><td>Dried Vegetables</td><td>null</td><td>TRADER JOE'S</td><td>TRADER JOE'S</td><td>563178</td></tr><tr><td>Snacks</td><td>Candy</td><td>Chocolate Candy</td><td>null</td><td>THE HERSHEY COMPANY</td><td>REESE'S</td><td>3449608</td></tr><tr><td>Snacks</td><td>Pretzels</td><td>Covered Pretzels</td><td>null</td><td>CREATIVE DESIGN</td><td>WONDERSHOP</td><td>11825364</td></tr><tr><td>Snacks</td><td>Candy</td><td>Chocolate Candy</td><td>null</td><td>THE HERSHEY COMPANY</td><td>KIT KAT</td><td>3465301</td></tr><tr><td>Snacks</td><td>Fruit & Vegetable Snacks</td><td>Fruit Snacks</td><td>null</td><td>LIDL US, LLC</td><td>LIDL</td><td>20744571</td></tr><tr><td>Snacks</td><td>Nuts & Seeds</td><td>Cashews</td><td>null</td><td>TRADER JOE'S</td><td>TRADER JOE'S</td><td>603898</td></tr><tr><td>Snacks</td><td>Candy</td><td>Chocolate Candy</td><td>null</td><td>THE HERSHEY COMPANY</td><td>HERSHEY'S</td><td>3466605</td></tr><tr><td>Snacks</td><td>Candy</td><td>Chocolate Candy</td><td>null</td><td>LIDL US, LLC</td><td>LIDL</td><td>20867966</td></tr><tr><td>Snacks</td><td>Candy</td><td>Chocolate Candy</td><td>null</td><td>THE HERSHEY COMPANY</td><td>REESE'S</td><td>3473009</td></tr><tr><td>Health & Wellness</td><td>Skin Care</td><td>Skin Toners & Astringents</td><td>Astringents</td><td>THE JM SMUCKER COMPANY</td><td>DICKINSON'S</td><td>5265169</td></tr><tr><td>Snacks</td><td>Candy</td><td>Chocolate Candy</td><td>null</td><td>THE HERSHEY COMPANY</td><td>REESE'S</td><td>3463901</td></tr><tr><td>Snacks</td><td>Candy</td><td>Mints</td><td>null</td><td>THE HERSHEY COMPANY</td><td>ICE BREAKERS</td><td>3481202</td></tr><tr><td>Snacks</td><td>Candy</td><td>Gum</td><td>null</td><td>THE HERSHEY COMPANY</td><td>ICE BREAKERS</td><td>3419908</td></tr><tr><td>Snacks</td><td>Candy</td><td>Chocolate Candy</td><td>null</td><td>THE HERSHEY COMPANY</td><td>REESE'S</td><td>3403600</td></tr><tr><td>Snacks</td><td>Candy</td><td>Chocolate Candy</td><td>null</td><td>KINDER'S</td><td>KINDER'S</td><td>80177616</td></tr><tr><td>Snacks</td><td>Nuts & Seeds</td><td>Covered Nuts</td><td>null</td><td>PLACEHOLDER MANUFACTURER</td><td>BRAND NOT KNOWN</td><td>20159078</td></tr><tr><td>Snacks</td><td>Candy</td><td>Mints</td><td>null</td><td>PERFETTI VAN MELLE</td><td>MENTOS</td><td>87306286</td></tr><tr><td>Snacks</td><td>Candy</td><td>Chocolate Candy</td><td>null</td><td>THE HERSHEY COMPANY</td><td>KIT KAT</td><td>3424803</td></tr><tr><td>Snacks</td><td>Candy</td><td>Chocolate Candy</td><td>null</td><td>THE HERSHEY COMPANY</td><td>HERSHEY'S</td><td>3422908</td></tr><tr><td>Snacks</td><td>Candy</td><td>Chocolate Candy</td><td>null</td><td>LIDL US, LLC</td><td>LIDL</td><td>20866297</td></tr><tr><td>Snacks</td><td>Candy</td><td>Chocolate Candy</td><td>null</td><td>LIDL US, LLC</td><td>LIDL</td><td>20433871</td></tr><tr><td>Snacks</td><td>Candy</td><td>Gum</td><td>null</td><td>GENERAL LICENSED IP MANUFACTURER</td><td>DISNEY</td><td>3462003</td></tr><tr><td>Snacks</td><td>Candy</td><td>Mints</td><td>null</td><td>THE HERSHEY COMPANY</td><td>ICE BREAKERS</td><td>3468005</td></tr><tr><td>Snacks</td><td>Candy</td><td>Gum</td><td>null</td><td>THE HERSHEY COMPANY</td><td>ICE BREAKERS</td><td>3465004</td></tr><tr><td>Snacks</td><td>Candy</td><td>Gum</td><td>null</td><td>THE HERSHEY COMPANY</td><td>ICE BREAKERS</td><td>3491508</td></tr><tr><td>Snacks</td><td>Candy</td><td>Chocolate Candy</td><td>null</td><td>THE HERSHEY COMPANY</td><td>MR. GOODBAR</td><td>3424407</td></tr><tr><td>Health & Wellness</td><td>Hair Removal</td><td>Shaving Gel & Cream</td><td>Men's Shaving Gel & Cream</td><td>PLACEHOLDER MANUFACTURER</td><td>PRORASO</td><td>80199137</td></tr><tr><td>Snacks</td><td>Candy</td><td>Gum</td><td>null</td><td>THE HERSHEY COMPANY</td><td>BUBBLE YUM</td><td>3474105</td></tr><tr><td>Snacks</td><td>Candy</td><td>Gum</td><td>null</td><td>THE HERSHEY COMPANY</td><td>ICE BREAKERS</td><td>3484302</td></tr><tr><td>Snacks</td><td>Candy</td><td>Confection Candy</td><td>null</td><td>MARS WRIGLEY</td><td>SKITTLES</td><td>11461821</td></tr><tr><td>Snacks</td><td>Candy</td><td>Mints</td><td>null</td><td>PERFETTI VAN MELLE</td><td>MENTOS</td><td>87304787</td></tr><tr><td>Beverages</td><td>Carbonated Soft Drinks</td><td>Cola</td><td>Regular Cola</td><td>THE COCA-COLA COMPANY</td><td>COCA-COLA</td><td>4904403</td></tr><tr><td>Snacks</td><td>Dessert Toppings</td><td>Ice Cream Sauces & Syrups</td><td>null</td><td>THE HERSHEY COMPANY</td><td>HERSHEY'S</td><td>3460009</td></tr><tr><td>Snacks</td><td>Candy</td><td>Chocolate Candy</td><td>null</td><td>THE HERSHEY COMPANY</td><td>HERSHEY'S</td><td>3473702</td></tr><tr><td>Snacks</td><td>Candy</td><td>Chocolate Candy</td><td>null</td><td>UTZ QUALITY FOODS, LLC</td><td>UTZ</td><td>40876283</td></tr><tr><td>Snacks</td><td>Candy</td><td>Chocolate Candy</td><td>null</td><td>THE HERSHEY COMPANY</td><td>HERSHEY'S</td><td>3423905</td></tr><tr><td>Snacks</td><td>Candy</td><td>Chocolate Candy</td><td>null</td><td>THE HERSHEY COMPANY</td><td>REESE'S</td><td>3473108</td></tr><tr><td>Snacks</td><td>Candy</td><td>Chocolate Candy</td><td>null</td><td>MARS WRIGLEY</td><td>M&M'S</td><td>404310</td></tr><tr><td>Snacks</td><td>Candy</td><td>Chocolate Candy</td><td>null</td><td>THE HERSHEY COMPANY</td><td>HERSHEY'S</td><td>3424001</td></tr><tr><td>Snacks</td><td>Candy</td><td>Chocolate Candy</td><td>null</td><td>THE HERSHEY COMPANY</td><td>HERSHEY'S</td><td>3424308</td></tr><tr><td>Snacks</td><td>Candy</td><td>Chocolate Candy</td><td>null</td><td>LIDL US, LLC</td><td>LIDL</td><td>20005832</td></tr><tr><td>Snacks</td><td>Candy</td><td>Chocolate Candy</td><td>null</td><td>MARS WRIGLEY</td><td>MARS</td><td>40111216</td></tr><tr><td>Snacks</td><td>Candy</td><td>Mints</td><td>null</td><td>THE HERSHEY COMPANY</td><td>ICE BREAKERS</td><td>3400807</td></tr><tr><td>Snacks</td><td>Candy</td><td>Gum</td><td>null</td><td>GENERAL LICENSED IP MANUFACTURER</td><td>DISNEY</td><td>3454503</td></tr><tr><td>Snacks</td><td>Dessert Toppings</td><td>Ice Cream Sauces & Syrups</td><td>null</td><td>THE HERSHEY COMPANY</td><td>YORK</td><td>3452905</td></tr><tr><td>Snacks</td><td>Candy</td><td>Mints</td><td>null</td><td>THE HERSHEY COMPANY</td><td>ICE BREAKERS</td><td>3466506</td></tr><tr><td>Snacks</td><td>Candy</td><td>Confection Candy</td><td>null</td><td>PERFETTI VAN MELLE</td><td>MENTOS</td><td>87108019</td></tr><tr><td>Snacks</td><td>Candy</td><td>Chocolate Candy</td><td>null</td><td>THE HERSHEY COMPANY</td><td>REESE'S</td><td>3416105</td></tr><tr><td>Snacks</td><td>Candy</td><td>Chocolate Candy</td><td>null</td><td>FRONERI</td><td>SKINNY COW</td><td>2818900</td></tr><tr><td>Snacks</td><td>Candy</td><td>Chocolate Candy</td><td>null</td><td>THE HERSHEY COMPANY</td><td>ROLO</td><td>3441503</td></tr><tr><td>Snacks</td><td>Candy</td><td>Chocolate Candy</td><td>null</td><td>THE HERSHEY COMPANY</td><td>HERSHEY'S</td><td>3404003</td></tr><tr><td>Snacks</td><td>Candy</td><td>Chocolate Candy</td><td>null</td><td>THE HERSHEY COMPANY</td><td>REESE'S</td><td>3460108</td></tr><tr><td>Snacks</td><td>Fruit & Vegetable Snacks</td><td>Dried Vegetables</td><td>null</td><td>TRADER JOE'S</td><td>TRADER JOE'S</td><td>563178</td></tr><tr><td>Snacks</td><td>Candy</td><td>Confection Candy</td><td>null</td><td>THE HERSHEY COMPANY</td><td>TWIZZLERS</td><td>3401903</td></tr><tr><td>Snacks</td><td>Candy</td><td>Mints</td><td>null</td><td>THE HERSHEY COMPANY</td><td>ICE BREAKERS</td><td>3422106</td></tr><tr><td>Snacks</td><td>Candy</td><td>Mints</td><td>null</td><td>THE HERSHEY COMPANY</td><td>ICE BREAKERS</td><td>3475003</td></tr><tr><td>Snacks</td><td>Candy</td><td>Chocolate Candy</td><td>null</td><td>THE HERSHEY COMPANY</td><td>ROLO</td><td>3445204</td></tr><tr><td>Snacks</td><td>Candy</td><td>Chocolate Candy</td><td>null</td><td>MARS WRIGLEY</td><td>M&M'S</td><td>4043205</td></tr><tr><td>Snacks</td><td>Dessert Toppings</td><td>Ice Cream Sauces & Syrups</td><td>null</td><td>THE HERSHEY COMPANY</td><td>HERSHEY'S</td><td>3437001</td></tr><tr><td>Snacks</td><td>Candy</td><td>Confection Candy</td><td>null</td><td>THE HERSHEY COMPANY</td><td>TWIZZLERS</td><td>3451502</td></tr><tr><td>Snacks</td><td>Candy</td><td>Gum</td><td>null</td><td>GENERAL LICENSED IP MANUFACTURER</td><td>DISNEY</td><td>3497203</td></tr><tr><td>Snacks</td><td>Candy</td><td>Gum</td><td>null</td><td>PERFETTI VAN MELLE</td><td>MENTOS</td><td>87317527</td></tr><tr><td>Snacks</td><td>Candy</td><td>Gum</td><td>null</td><td>THE HERSHEY COMPANY</td><td>ICE BREAKERS</td><td>3454503</td></tr><tr><td>Snacks</td><td>Candy</td><td>Chocolate Candy</td><td>null</td><td>LIDL US, LLC</td><td>LIDL</td><td>20146900</td></tr><tr><td>Snacks</td><td>Candy</td><td>Mints</td><td>null</td><td>THE HERSHEY COMPANY</td><td>ICE BREAKERS</td><td>3422106</td></tr><tr><td>Snacks</td><td>Candy</td><td>Chocolate Candy</td><td>null</td><td>KINDER'S</td><td>KINDER'S</td><td>80177609</td></tr><tr><td>Snacks</td><td>Candy</td><td>Gum</td><td>null</td><td>THE HERSHEY COMPANY</td><td>ICE BREAKERS</td><td>3440506</td></tr><tr><td>Snacks</td><td>Candy</td><td>Chocolate Candy</td><td>null</td><td>THE HERSHEY COMPANY</td><td>HERSHEY'S</td><td>3424100</td></tr><tr><td>Snacks</td><td>Candy</td><td>Gum</td><td>null</td><td>PERFETTI VAN MELLE</td><td>MENTOS</td><td>87317527</td></tr><tr><td>Snacks</td><td>Candy</td><td>Confection Candy</td><td>null</td><td>PERFETTI VAN MELLE</td><td>MENTOS</td><td>87317466</td></tr><tr><td>Snacks</td><td>Candy</td><td>Gum</td><td>null</td><td>THE HERSHEY COMPANY</td><td>BUBBLE YUM</td><td>3473009</td></tr><tr><td>Snacks</td><td>Candy</td><td>Mints</td><td>null</td><td>THE HERSHEY COMPANY</td><td>ICE BREAKERS</td><td>3499504</td></tr><tr><td>Snacks</td><td>Candy</td><td>Mints</td><td>null</td><td>THE HERSHEY COMPANY</td><td>ICE BREAKERS</td><td>3400708</td></tr><tr><td>Snacks</td><td>Candy</td><td>Chocolate Candy</td><td>null</td><td>THE HERSHEY COMPANY</td><td>KIT KAT</td><td>3424803</td></tr><tr><td>Snacks</td><td>Candy</td><td>Gum</td><td>null</td><td>GENERAL LICENSED IP MANUFACTURER</td><td>DISNEY</td><td>3462003</td></tr><tr><td>Health & Wellness</td><td>Skin Care</td><td>Lip Balms & Treatments</td><td>Medicated Lip Treatments</td><td>BLISTEX INC</td><td>BLISTEX</td><td>4138891</td></tr><tr><td>Snacks</td><td>Candy</td><td>Chocolate Candy</td><td>null</td><td>LIDL US, LLC</td><td>LIDL</td><td>20481940</td></tr><tr><td>Snacks</td><td>Candy</td><td>Chocolate Candy</td><td>null</td><td>GRUPO NACIONAL DE CHOCOLATES SA</td><td>NUTRESA</td><td>75053055</td></tr><tr><td>Health & Wellness</td><td>Skin Care</td><td>Lip Balms & Treatments</td><td>Medicated Lip Treatments</td><td>E.T. BROWNE DRUG CO., INC.</td><td>PALMER'S SKIN & HAIR CARE</td><td>1018158</td></tr><tr><td>Snacks</td><td>Nuts & Seeds</td><td>Pistachios</td><td>null</td><td>LIDL US, LLC</td><td>LIDL</td><td>20522445</td></tr><tr><td>Snacks</td><td>Candy</td><td>Gum</td><td>null</td><td>THE HERSHEY COMPANY</td><td>ICE BREAKERS</td><td>3420904</td></tr><tr><td>Snacks</td><td>Nuts & Seeds</td><td>Peanuts</td><td>null</td><td>MARS WRIGLEY</td><td>M&M'S</td><td>4003207</td></tr><tr><td>Snacks</td><td>Candy</td><td>Chocolate Candy</td><td>null</td><td>PLACEHOLDER MANUFACTURER</td><td>BRAND NOT KNOWN</td><td>404310</td></tr><tr><td>Snacks</td><td>Candy</td><td>Chocolate Candy</td><td>null</td><td>THE HERSHEY COMPANY</td><td>REESE'S</td><td>3431207</td></tr><tr><td>Snacks</td><td>Candy</td><td>Chocolate Candy</td><td>null</td><td>THE HERSHEY COMPANY</td><td>REESE'S</td><td>3444306</td></tr><tr><td>Snacks</td><td>Candy</td><td>Gum</td><td>null</td><td>THE HERSHEY COMPANY</td><td>ICE BREAKERS</td><td>3484302</td></tr><tr><td>Snacks</td><td>Candy</td><td>Chocolate Candy</td><td>null</td><td>THE HERSHEY COMPANY</td><td>REESE'S</td><td>3414408</td></tr><tr><td>Snacks</td><td>Candy</td><td>Mints</td><td>null</td><td>THE HERSHEY COMPANY</td><td>ICE BREAKERS</td><td>3469200</td></tr><tr><td>Snacks</td><td>Candy</td><td>Chocolate Candy</td><td>null</td><td>THE HERSHEY COMPANY</td><td>REESE'S</td><td>3417607</td></tr><tr><td>Snacks</td><td>Candy</td><td>Chocolate Candy</td><td>null</td><td>LIDL US, LLC</td><td>LIDL</td><td>20481940</td></tr><tr><td>Snacks</td><td>Candy</td><td>Chocolate Candy</td><td>null</td><td>THE HERSHEY COMPANY</td><td>KIT KAT</td><td>3423806</td></tr><tr><td>Snacks</td><td>Candy</td><td>Confection Candy</td><td>null</td><td>THE HERSHEY COMPANY</td><td>TWIZZLERS</td><td>3401903</td></tr><tr><td>Snacks</td><td>Candy</td><td>Chocolate Candy</td><td>null</td><td>THE MADELAINE CHOCOLATE COMPANY</td><td>MADELAINE CHOCOLATE</td><td>60908308</td></tr><tr><td>Snacks</td><td>Candy</td><td>Mints</td><td>null</td><td>THE HERSHEY COMPANY</td><td>ICE BREAKERS</td><td>3404201</td></tr><tr><td>Snacks</td><td>Candy</td><td>Mints</td><td>null</td><td>PERFETTI VAN MELLE</td><td>MENTOS</td><td>87304787</td></tr><tr><td>Snacks</td><td>Candy</td><td>Mints</td><td>null</td><td>THE HERSHEY COMPANY</td><td>ICE BREAKERS</td><td>3400906</td></tr><tr><td>Snacks</td><td>Candy</td><td>Chocolate Candy</td><td>null</td><td>THE HERSHEY COMPANY</td><td>REESE'S</td><td>3463901</td></tr><tr><td>Snacks</td><td>Candy</td><td>Chocolate Candy</td><td>null</td><td>THE HERSHEY COMPANY</td><td>ROLO</td><td>3424506</td></tr><tr><td>Snacks</td><td>Candy</td><td>Chocolate Candy</td><td>null</td><td>THE HERSHEY COMPANY</td><td>KIT KAT</td><td>5289516</td></tr><tr><td>Snacks</td><td>Candy</td><td>Gum</td><td>null</td><td>GENERAL LICENSED IP MANUFACTURER</td><td>DISNEY</td><td>3497203</td></tr><tr><td>Snacks</td><td>Candy</td><td>Chocolate Candy</td><td>null</td><td>THE HERSHEY COMPANY</td><td>HERSHEY'S</td><td>3455609</td></tr><tr><td>Snacks</td><td>Nuts & Seeds</td><td>Covered Nuts</td><td>null</td><td>TRADER JOE'S</td><td>TRADER JOE'S</td><td>969307</td></tr><tr><td>Snacks</td><td>Candy</td><td>Chocolate Candy</td><td>null</td><td>THE HERSHEY COMPANY</td><td>REESE'S</td><td>3450208</td></tr><tr><td>Snacks</td><td>Candy</td><td>Chocolate Candy</td><td>null</td><td>THE HERSHEY COMPANY</td><td>CADBURY</td><td>3436608</td></tr><tr><td>Snacks</td><td>Candy</td><td>Chocolate Candy</td><td>null</td><td>LIDL US, LLC</td><td>LIDL</td><td>20867966</td></tr><tr><td>Snacks</td><td>Candy</td><td>Confection Candy</td><td>null</td><td>GRUPO NACIONAL DE CHOCOLATES SA</td><td>NUTRESA</td><td>75053055</td></tr><tr><td>Snacks</td><td>Candy</td><td>Chocolate Candy</td><td>null</td><td>THE HERSHEY COMPANY</td><td>HERSHEY'S</td><td>3422908</td></tr><tr><td>Snacks</td><td>Candy</td><td>Gum</td><td>null</td><td>THE HERSHEY COMPANY</td><td>ICE BREAKERS</td><td>3465103</td></tr><tr><td>Snacks</td><td>Candy</td><td>Chocolate Candy</td><td>null</td><td>THE HERSHEY COMPANY</td><td>HERSHEY'S</td><td>3473801</td></tr><tr><td>Snacks</td><td>Candy</td><td>Mints</td><td>null</td><td>THE HERSHEY COMPANY</td><td>ICE BREAKERS</td><td>3499504</td></tr><tr><td>Snacks</td><td>Candy</td><td>Chocolate Candy</td><td>null</td><td>MARS WRIGLEY</td><td>M&M'S</td><td>4003207</td></tr><tr><td>Snacks</td><td>Candy</td><td>Chocolate Candy</td><td>null</td><td>PLACEHOLDER MANUFACTURER</td><td>BRAND NOT KNOWN</td><td>20293598</td></tr><tr><td>Snacks</td><td>Candy</td><td>Chocolate Candy</td><td>null</td><td>THE HERSHEY COMPANY</td><td>CADBURY</td><td>3436608</td></tr><tr><td>Snacks</td><td>Crackers</td><td>Graham Crackers</td><td>null</td><td>LIDL US, LLC</td><td>LIDL</td><td>20733056</td></tr><tr><td>Snacks</td><td>Candy</td><td>Chocolate Candy</td><td>null</td><td>KINDER'S</td><td>KINDER'S</td><td>40084176</td></tr><tr><td>Health & Wellness</td><td>Hair Care</td><td>Hair Color</td><td>null</td><td>HENKEL</td><td>SCHWARZKOPF</td><td>17000329260</td></tr><tr><td>Snacks</td><td>Candy</td><td>Chocolate Candy</td><td>null</td><td>FERRERO GROUP</td><td>KINDER</td><td>80310167</td></tr><tr><td>Snacks</td><td>Nuts & Seeds</td><td>Mixed Nuts</td><td>null</td><td>GHIRARDELLI CHOCOLATE COMPANY</td><td>GHIRARDELLI</td><td>13468439</td></tr><tr><td>Snacks</td><td>Candy</td><td>Confection Candy</td><td>null</td><td>NESTLE</td><td>ROWNTREES</td><td>50426461</td></tr><tr><td>Snacks</td><td>Candy</td><td>Mints</td><td>null</td><td>THE HERSHEY COMPANY</td><td>ICE BREAKERS</td><td>3466506</td></tr><tr><td>Snacks</td><td>Dessert Toppings</td><td>Ice Cream Sauces & Syrups</td><td>null</td><td>THE HERSHEY COMPANY</td><td>HERSHEY'S</td><td>3412503</td></tr><tr><td>Snacks</td><td>Candy</td><td>Chocolate Candy</td><td>null</td><td>THE HERSHEY COMPANY</td><td>REESE'S</td><td>3416105</td></tr><tr><td>Snacks</td><td>Candy</td><td>Mints</td><td>null</td><td>THE HERSHEY COMPANY</td><td>ICE BREAKERS</td><td>3400708</td></tr><tr><td>Snacks</td><td>Candy</td><td>Chocolate Candy</td><td>null</td><td>THE HERSHEY COMPANY</td><td>REESE'S</td><td>3444306</td></tr><tr><td>Snacks</td><td>Candy</td><td>Chocolate Candy</td><td>null</td><td>THE HERSHEY COMPANY</td><td>KIT KAT</td><td>3404607</td></tr><tr><td>Snacks</td><td>Dessert Toppings</td><td>Ice Cream Sauces & Syrups</td><td>null</td><td>THE HERSHEY COMPANY</td><td>HERSHEY'S</td><td>3412503</td></tr><tr><td>Snacks</td><td>Candy</td><td>Gum</td><td>null</td><td>THE HERSHEY COMPANY</td><td>ICE BREAKERS</td><td>3454701</td></tr><tr><td>Snacks</td><td>Candy</td><td>Chocolate Candy</td><td>null</td><td>THE HERSHEY COMPANY</td><td>KIT KAT</td><td>5289516</td></tr><tr><td>Snacks</td><td>Candy</td><td>Chocolate Candy</td><td>null</td><td>THE HERSHEY COMPANY</td><td>KIT KAT</td><td>3423806</td></tr><tr><td>Snacks</td><td>Candy</td><td>Chocolate Candy</td><td>null</td><td>THE HERSHEY COMPANY</td><td>REESE'S</td><td>3414408</td></tr><tr><td>Snacks</td><td>Candy</td><td>Gum</td><td>null</td><td>THE HERSHEY COMPANY</td><td>ICE BREAKERS</td><td>3454701</td></tr><tr><td>Snacks</td><td>Candy</td><td>Chocolate Candy</td><td>null</td><td>LIDL US, LLC</td><td>LIDL</td><td>20522445</td></tr><tr><td>Snacks</td><td>Candy</td><td>Chocolate Candy</td><td>null</td><td>NESTLE</td><td>MILKYBAR</td><td>59939498</td></tr><tr><td>Snacks</td><td>Fruit & Vegetable Snacks</td><td>Dried Vegetables</td><td>null</td><td>TRADER JOE'S</td><td>TRADER JOE'S</td><td>853743</td></tr><tr><td>Snacks</td><td>Dessert Toppings</td><td>Ice Cream Sauces & Syrups</td><td>null</td><td>THE HERSHEY COMPANY</td><td>HERSHEY'S</td><td>3460009</td></tr><tr><td>Snacks</td><td>Nuts & Seeds</td><td>Mixed Nuts</td><td>null</td><td>GHIRARDELLI CHOCOLATE COMPANY</td><td>GHIRARDELLI</td><td>13468439</td></tr><tr><td>Snacks</td><td>Candy</td><td>Chocolate Candy</td><td>null</td><td>THE HERSHEY COMPANY</td><td>HERSHEY'S</td><td>3424605</td></tr><tr><td>Snacks</td><td>Candy</td><td>Chocolate Candy</td><td>null</td><td>GHIRARDELLI CHOCOLATE COMPANY</td><td>GHIRARDELLI</td><td>36553235</td></tr><tr><td>Snacks</td><td>Nuts & Seeds</td><td>Cashews</td><td>null</td><td>TRADER JOE'S</td><td>TRADER JOE'S</td><td>603898</td></tr><tr><td>Snacks</td><td>Candy</td><td>Chocolate Candy</td><td>null</td><td>PLACEHOLDER MANUFACTURER</td><td>BRAND NOT KNOWN</td><td>20866280</td></tr><tr><td>Snacks</td><td>Candy</td><td>Chocolate Candy</td><td>null</td><td>THE HERSHEY COMPANY</td><td>REESE'S</td><td>3434000</td></tr><tr><td>Snacks</td><td>Crackers</td><td>Graham Crackers</td><td>null</td><td>TRADER JOE'S</td><td>TRADER JOE'S</td><td>438711</td></tr><tr><td>Snacks</td><td>Candy</td><td>Chocolate Candy</td><td>null</td><td>PROCTER & GAMBLE</td><td>BOUNTY</td><td>40111216</td></tr><tr><td>Snacks</td><td>Candy</td><td>Confection Candy</td><td>null</td><td>THE HERSHEY COMPANY</td><td>TWIZZLERS</td><td>3452400</td></tr><tr><td>Snacks</td><td>Candy</td><td>Chocolate Candy</td><td>null</td><td>THE HERSHEY COMPANY</td><td>REESE'S</td><td>3466803</td></tr><tr><td>Snacks</td><td>Candy</td><td>Chocolate Candy</td><td>null</td><td>THE HERSHEY COMPANY</td><td>SKOR</td><td>3439807</td></tr><tr><td>Snacks</td><td>Candy</td><td>Confection Candy</td><td>null</td><td>MARS WRIGLEY</td><td>SKITTLES</td><td>11461821</td></tr><tr><td>Snacks</td><td>Candy</td><td>Chocolate Candy</td><td>null</td><td>THE HERSHEY COMPANY</td><td>REESE'S</td><td>3420300</td></tr><tr><td>Snacks</td><td>Dessert Toppings</td><td>Ice Cream Sauces & Syrups</td><td>null</td><td>THE HERSHEY COMPANY</td><td>HERSHEY'S</td><td>3483602</td></tr><tr><td>Snacks</td><td>Candy</td><td>Chocolate Candy</td><td>null</td><td>THE HERSHEY COMPANY</td><td>HERSHEY'S</td><td>3465608</td></tr><tr><td>Snacks</td><td>Candy</td><td>Confection Candy</td><td>null</td><td>PERFETTI VAN MELLE</td><td>MENTOS</td><td>87108538</td></tr><tr><td>Health & Wellness</td><td>Hair Care</td><td>Hair Color</td><td>null</td><td>HENKEL</td><td>GÖT2B</td><td>17000329260</td></tr><tr><td>Snacks</td><td>Candy</td><td>Chocolate Candy</td><td>null</td><td>THE HERSHEY COMPANY</td><td>HERSHEY'S</td><td>3455609</td></tr><tr><td>Snacks</td><td>Candy</td><td>Chocolate Candy</td><td>null</td><td>LIDL US, LLC</td><td>LIDL</td><td>20293567</td></tr><tr><td>Snacks</td><td>Candy</td><td>Chocolate Candy</td><td>null</td><td>THE HERSHEY COMPANY</td><td>HERSHEY'S</td><td>3466605</td></tr><tr><td>Snacks</td><td>Candy</td><td>Chocolate Candy</td><td>null</td><td>THE HERSHEY COMPANY</td><td>REESE'S</td><td>3466803</td></tr><tr><td>Snacks</td><td>Dessert Toppings</td><td>Ice Cream Sauces & Syrups</td><td>null</td><td>THE HERSHEY COMPANY</td><td>HERSHEY'S</td><td>3484500</td></tr><tr><td>Snacks</td><td>Candy</td><td>Gum</td><td>null</td><td>THE HERSHEY COMPANY</td><td>ICE BREAKERS</td><td>3419908</td></tr><tr><td>Snacks</td><td>Candy</td><td>Chocolate Candy</td><td>null</td><td>LIDL US, LLC</td><td>LIDL</td><td>20725358</td></tr><tr><td>Snacks</td><td>Dips & Salsa</td><td>Hummus</td><td>null</td><td>TRADER JOE'S</td><td>TRADER JOE'S</td><td>906425</td></tr><tr><td>Snacks</td><td>Candy</td><td>Chocolate Candy</td><td>null</td><td>THE HERSHEY COMPANY</td><td>HERSHEY'S</td><td>3473702</td></tr><tr><td>Snacks</td><td>Candy</td><td>Chocolate Candy</td><td>null</td><td>THE HERSHEY COMPANY</td><td>HERSHEY'S KISSES</td><td>3471203</td></tr><tr><td>Snacks</td><td>Candy</td><td>Chocolate Candy</td><td>null</td><td>THE HERSHEY COMPANY</td><td>ROLO</td><td>3441503</td></tr><tr><td>Snacks</td><td>Candy</td><td>Mints</td><td>null</td><td>THE HERSHEY COMPANY</td><td>ICE BREAKERS</td><td>3400401</td></tr><tr><td>Snacks</td><td>Candy</td><td>Chocolate Candy</td><td>null</td><td>THE HERSHEY COMPANY</td><td>HERSHEY'S</td><td>3447109</td></tr></tbody></table></div>"
      ]
     },
     "metadata": {
      "application/vnd.databricks.v1+output": {
       "addedWidgets": {},
       "aggData": [],
       "aggError": "",
       "aggOverflow": false,
       "aggSchema": [],
       "aggSeriesLimitReached": false,
       "aggType": "",
       "arguments": {},
       "columnCustomDisplayInfos": {},
       "data": [
        [
         "Snacks",
         "Candy",
         "Chocolate Candy",
         null,
         "THE HERSHEY COMPANY",
         "MR. GOODBAR",
         3424407
        ],
        [
         "Snacks",
         "Candy",
         "Mints",
         null,
         "THE HERSHEY COMPANY",
         "ICE BREAKERS",
         3468005
        ],
        [
         "Health & Wellness",
         "Skin Care",
         "Lip Balms & Treatments",
         "Medicated Lip Treatments",
         "BLISTEX INC",
         "BLISTEX",
         4138891
        ],
        [
         "Snacks",
         "Dessert Toppings",
         "Ice Cream Sauces & Syrups",
         null,
         "THE HERSHEY COMPANY",
         "REESE'S",
         3408704
        ],
        [
         "Snacks",
         "Candy",
         "Gum",
         null,
         "THE HERSHEY COMPANY",
         "ICE BREAKERS",
         3464502
        ],
        [
         "Snacks",
         "Candy",
         "Gum",
         null,
         "CHICLES CANELS SA DE CV",
         "CANELS",
         75030452
        ],
        [
         "Snacks",
         "Candy",
         "Mints",
         null,
         "THE HERSHEY COMPANY",
         "ICE BREAKERS",
         6811600
        ],
        [
         "Snacks",
         "Candy",
         "Confection Candy",
         null,
         "MARS WRIGLEY",
         "STARBURST",
         400510
        ],
        [
         "Snacks",
         "Candy",
         "Chocolate Candy",
         null,
         "THE HERSHEY COMPANY",
         "HERSHEY'S",
         3447109
        ],
        [
         "Snacks",
         "Candy",
         "Chocolate Candy",
         null,
         "THE HERSHEY COMPANY",
         "REESE'S",
         3421109
        ],
        [
         "Snacks",
         "Candy",
         "Confection Candy",
         null,
         "THE HERSHEY COMPANY",
         "TWIZZLERS",
         3465202
        ],
        [
         "Snacks",
         "Candy",
         "Mints",
         null,
         "THE HERSHEY COMPANY",
         "ICE BREAKERS",
         3475003
        ],
        [
         "Snacks",
         "Candy",
         "Confection Candy",
         null,
         "NESTLE",
         "ROWNTREES",
         50426461
        ],
        [
         "Snacks",
         "Dips & Salsa",
         "Hummus",
         null,
         "TRADER JOE'S",
         "TRADER JOE'S",
         906425
        ],
        [
         "Snacks",
         "Candy",
         "Gum",
         null,
         "THE HERSHEY COMPANY",
         "ICE BREAKERS",
         3498705
        ],
        [
         "Snacks",
         "Candy",
         "Chocolate Candy",
         null,
         "MARS WRIGLEY",
         "M&M'S",
         4043205
        ],
        [
         "Snacks",
         "Candy",
         "Chocolate Candy",
         null,
         "THE HERSHEY COMPANY",
         "REESE'S",
         3442005
        ],
        [
         "Snacks",
         "Candy",
         "Gum",
         null,
         "PERFETTI VAN MELLE",
         "MENTOS",
         80946854
        ],
        [
         "Snacks",
         "Candy",
         "Chocolate Candy",
         null,
         "THE HERSHEY COMPANY",
         "ALMOND JOY",
         3433409
        ],
        [
         "Snacks",
         "Candy",
         "Chocolate Candy",
         null,
         "THE HERSHEY COMPANY",
         "REESE'S",
         3420300
        ],
        [
         "Snacks",
         "Candy",
         "Mints",
         null,
         "THE HERSHEY COMPANY",
         "ICE BREAKERS",
         3400401
        ],
        [
         "Snacks",
         "Candy",
         "Mints",
         null,
         "THE HERSHEY COMPANY",
         "ICE BREAKERS",
         3416303
        ],
        [
         "Snacks",
         "Candy",
         "Confection Candy",
         null,
         "THE HERSHEY COMPANY",
         "REESE'S",
         3431207
        ],
        [
         "Snacks",
         "Candy",
         "Gum",
         null,
         "THE HERSHEY COMPANY",
         "ICE BREAKERS",
         3498705
        ],
        [
         "Snacks",
         "Candy",
         "Confection Candy",
         null,
         "PERFETTI VAN MELLE",
         "MENTOS",
         87108019
        ],
        [
         "Snacks",
         "Candy",
         "Chocolate Candy",
         null,
         "KINDER'S",
         "KINDER'S",
         40084176
        ],
        [
         "Snacks",
         "Candy",
         "Mints",
         null,
         "THE HERSHEY COMPANY",
         "ICE BREAKERS",
         3400609
        ],
        [
         "Snacks",
         "Candy",
         "Chocolate Candy",
         null,
         "THE HERSHEY COMPANY",
         "REESE'S",
         3442005
        ],
        [
         "Snacks",
         "Candy",
         "Chocolate Candy",
         null,
         "THE HERSHEY COMPANY",
         "REESE'S",
         3472705
        ],
        [
         "Snacks",
         "Candy",
         "Chocolate Candy",
         null,
         "THE HERSHEY COMPANY",
         "ROLO",
         3424506
        ],
        [
         "Snacks",
         "Candy",
         "Chocolate Candy",
         null,
         "PLACEHOLDER MANUFACTURER",
         "BRAND NOT KNOWN",
         20293598
        ],
        [
         "Snacks",
         "Candy",
         "Mints",
         null,
         "THE HERSHEY COMPANY",
         "ICE BREAKERS",
         3481202
        ],
        [
         "Snacks",
         "Candy",
         "Chocolate Candy",
         null,
         "THE HERSHEY COMPANY",
         "WHATCHAMACALLIT",
         3429907
        ],
        [
         "Snacks",
         "Candy",
         "Chocolate Candy",
         null,
         "THE HERSHEY COMPANY",
         "MOUNDS",
         3403105
        ],
        [
         "Snacks",
         "Candy",
         "Chocolate Candy",
         null,
         "THE HERSHEY COMPANY",
         "REESE'S",
         3434000
        ],
        [
         "Snacks",
         "Candy",
         "Chocolate Candy",
         null,
         "THE HERSHEY COMPANY",
         "HERSHEY'S",
         3424100
        ],
        [
         "Snacks",
         "Candy",
         "Chocolate Candy",
         null,
         "THE HERSHEY COMPANY",
         "HERSHEY'S",
         3422007
        ],
        [
         "Snacks",
         "Candy",
         "Gum",
         null,
         "THE HERSHEY COMPANY",
         "ICE BREAKERS",
         3491508
        ],
        [
         "Snacks",
         "Candy",
         "Chocolate Candy",
         null,
         "THE HERSHEY COMPANY",
         "HERSHEY'S",
         3424001
        ],
        [
         "Snacks",
         "Candy",
         "Chocolate Candy",
         null,
         "THE MADELAINE CHOCOLATE COMPANY",
         "MADELAINE CHOCOLATE",
         60923158
        ],
        [
         "Snacks",
         "Candy",
         "Chocolate Candy",
         null,
         "THE HERSHEY COMPANY",
         "ALMOND JOY",
         3433409
        ],
        [
         "Health & Wellness",
         "Skin Care",
         "Facial Lotion & Moisturizer",
         null,
         "R.M. PALMER COMPANY, LLC",
         "PALMER",
         1018158
        ],
        [
         "Snacks",
         "Pretzels",
         "Covered Pretzels",
         null,
         "CREATIVE DESIGN",
         "WONDERSHOP",
         11825364
        ],
        [
         "Snacks",
         "Candy",
         "Mints",
         null,
         "THE HERSHEY COMPANY",
         "ICE BREAKERS",
         3409800
        ],
        [
         "Snacks",
         "Candy",
         "Chocolate Candy",
         null,
         "THE HERSHEY COMPANY",
         "REESE'S",
         3450208
        ],
        [
         "Snacks",
         "Candy",
         "Chocolate Candy",
         null,
         "THE HERSHEY COMPANY",
         "REESE'S",
         3460108
        ],
        [
         "Snacks",
         "Candy",
         "Confection Candy",
         null,
         "PERFETTI VAN MELLE",
         "MENTOS",
         87317466
        ],
        [
         "Snacks",
         "Candy",
         "Chocolate Candy",
         null,
         "THE MADELAINE CHOCOLATE COMPANY",
         "MADELAINE CHOCOLATE",
         60941022
        ],
        [
         "Snacks",
         "Dessert Toppings",
         "Ice Cream Sauces & Syrups",
         null,
         "THE HERSHEY COMPANY",
         "HERSHEY'S",
         3451106
        ],
        [
         "Snacks",
         "Candy",
         "Chocolate Candy",
         null,
         "THE HERSHEY COMPANY",
         "MOUNDS",
         3403105
        ],
        [
         "Snacks",
         "Candy",
         "Chocolate Candy",
         null,
         "KINDER'S",
         "KINDER'S",
         80050094
        ],
        [
         "Snacks",
         "Candy",
         "Chocolate Candy",
         null,
         "THE HERSHEY COMPANY",
         "KIT KAT",
         3404607
        ],
        [
         "Snacks",
         "Candy",
         "Chocolate Candy",
         null,
         "LIDL US, LLC",
         "LIDL",
         20725358
        ],
        [
         "Snacks",
         "Candy",
         "Confection Candy",
         null,
         "THE HERSHEY COMPANY",
         "TWIZZLERS",
         3416204
        ],
        [
         "Snacks",
         "Candy",
         "Mints",
         null,
         "THE HERSHEY COMPANY",
         "ICE BREAKERS",
         3468401
        ],
        [
         "Snacks",
         "Candy",
         "Chocolate Candy",
         null,
         "KINDER'S",
         "KINDER'S",
         80310167
        ],
        [
         "Snacks",
         "Candy",
         "Gum",
         null,
         "THE HERSHEY COMPANY",
         "BUBBLE YUM",
         3474105
        ],
        [
         "Snacks",
         "Candy",
         "Gum",
         null,
         "THE HERSHEY COMPANY",
         "ICE BREAKERS",
         3465004
        ],
        [
         "Snacks",
         "Candy",
         "Mints",
         null,
         "THE HERSHEY COMPANY",
         "ICE BREAKERS",
         3416303
        ],
        [
         "Snacks",
         "Candy",
         "Gum",
         null,
         "THE HERSHEY COMPANY",
         "ICE BREAKERS",
         3484708
        ],
        [
         "Health & Wellness",
         "First Aid",
         "Ointments & Liquids",
         null,
         "THE JM SMUCKER COMPANY",
         "DICKINSON'S",
         5265169
        ],
        [
         "Snacks",
         "Candy",
         "Chocolate Candy",
         null,
         "PLACEHOLDER MANUFACTURER",
         "BRAND NOT KNOWN",
         20866280
        ],
        [
         "Snacks",
         "Candy",
         "Mints",
         null,
         "THE HERSHEY COMPANY",
         "ICE BREAKERS",
         3404201
        ],
        [
         "Snacks",
         "Candy",
         "Chocolate Candy",
         null,
         "THE MADELAINE CHOCOLATE COMPANY",
         "MADELAINE CHOCOLATE",
         60908308
        ],
        [
         "Snacks",
         "Candy",
         "Chocolate Candy",
         null,
         "THE HERSHEY COMPANY",
         "REESE'S",
         3451304
        ],
        [
         "Snacks",
         "Candy",
         "Chocolate Candy",
         null,
         "THE HERSHEY COMPANY",
         "HERSHEY'S",
         3424308
        ],
        [
         "Snacks",
         "Nuts & Seeds",
         "Snack Seeds",
         null,
         "SUNRIDGE FARMS",
         "SUNRIDGE FARMS",
         701983
        ],
        [
         "Snacks",
         "Candy",
         "Chocolate Candy",
         null,
         "THE HERSHEY COMPANY",
         "HERSHEY'S",
         3423905
        ],
        [
         "Snacks",
         "Candy",
         "Chocolate Candy",
         null,
         "LIDL US, LLC",
         "LIDL",
         20293567
        ],
        [
         "Snacks",
         "Candy",
         "Chocolate Candy",
         null,
         "THE HERSHEY COMPANY",
         "REESE'S",
         3473108
        ],
        [
         "Snacks",
         "Dessert Toppings",
         "Ice Cream Sauces & Syrups",
         null,
         "THE HERSHEY COMPANY",
         "HERSHEY'S",
         3483602
        ],
        [
         "Snacks",
         "Fruit & Vegetable Snacks",
         "Dried Vegetables",
         null,
         "TRADER JOE'S",
         "TRADER JOE'S",
         853743
        ],
        [
         "Snacks",
         "Candy",
         "Chocolate Candy",
         null,
         "THE HERSHEY COMPANY",
         "CADBURY",
         3468708
        ],
        [
         "Snacks",
         "Candy",
         "Gum",
         null,
         "CHICLES CANELS SA DE CV",
         "CANELS",
         75030452
        ],
        [
         "Snacks",
         "Chips",
         "Crisps",
         null,
         "TRADER JOE'S",
         "TRADER JOE'S",
         701983
        ],
        [
         "Snacks",
         "Candy",
         "Mints",
         null,
         "THE HERSHEY COMPANY",
         "ICE BREAKERS",
         3468401
        ],
        [
         "Snacks",
         "Candy",
         "Mints",
         null,
         "THE HERSHEY COMPANY",
         "BREATH SAVERS",
         3433706
        ],
        [
         "Snacks",
         "Candy",
         "Gum",
         null,
         "THE HERSHEY COMPANY",
         "BUBBLE YUM",
         3481103
        ],
        [
         "Snacks",
         "Candy",
         "Chocolate Candy",
         null,
         "THE HERSHEY COMPANY",
         "HERSHEY'S KISSES",
         3471203
        ],
        [
         "Snacks",
         "Candy",
         "Mints",
         null,
         "THE HERSHEY COMPANY",
         "ICE BREAKERS",
         3483909
        ],
        [
         "Snacks",
         "Candy",
         "Chocolate Candy",
         null,
         "THE HERSHEY COMPANY",
         "REESE'S",
         3448007
        ],
        [
         "Snacks",
         "Candy",
         "Gum",
         null,
         "THE HERSHEY COMPANY",
         "BUBBLE YUM",
         3410103
        ],
        [
         "Snacks",
         "Candy",
         "Gum",
         null,
         "THE HERSHEY COMPANY",
         "ICE BREAKERS",
         3465103
        ],
        [
         "Snacks",
         "Candy",
         "Chocolate Candy",
         null,
         "THE HERSHEY COMPANY",
         "HEATH",
         3460504
        ],
        [
         "Snacks",
         "Candy",
         "Chocolate Candy",
         null,
         "THE HERSHEY COMPANY",
         "REESE'S",
         3451304
        ],
        [
         "Snacks",
         "Candy",
         "Chocolate Candy",
         null,
         "THE HERSHEY COMPANY",
         "HERSHEY'S",
         3424605
        ],
        [
         "Snacks",
         "Candy",
         "Confection Candy",
         null,
         "THE HERSHEY COMPANY",
         "TWIZZLERS",
         3452400
        ],
        [
         "Snacks",
         "Candy",
         "Chocolate Candy",
         null,
         "THE HERSHEY COMPANY",
         "REESE'S",
         3403501
        ],
        [
         "Health & Wellness",
         "Hair Removal",
         "Shaving Gel & Cream",
         "Women's Shaving Gel & Cream",
         "PLACEHOLDER MANUFACTURER",
         "PRORASO",
         80199137
        ],
        [
         "Snacks",
         "Candy",
         "Mints",
         null,
         "THE HERSHEY COMPANY",
         "ICE BREAKERS",
         3400203
        ],
        [
         "Snacks",
         "Candy",
         "Chocolate Candy",
         null,
         "THE HERSHEY COMPANY",
         "WHATCHAMACALLIT",
         3429907
        ],
        [
         "Snacks",
         "Candy",
         "Mints",
         null,
         "THE HERSHEY COMPANY",
         "ICE BREAKERS",
         3409800
        ],
        [
         "Snacks",
         "Chips",
         "Crisps",
         null,
         "TRADER JOE'S",
         "TRADER JOE'S",
         952811
        ],
        [
         "Snacks",
         "Candy",
         "Confection Candy",
         null,
         "THE HERSHEY COMPANY",
         "REESE'S",
         3447505
        ],
        [
         "Snacks",
         "Dessert Toppings",
         "Ice Cream Sauces & Syrups",
         null,
         "THE HERSHEY COMPANY",
         "HERSHEY'S",
         3484500
        ],
        [
         "Snacks",
         "Candy",
         "Gum",
         null,
         "THE HERSHEY COMPANY",
         "BUBBLE YUM",
         3481103
        ],
        [
         "Snacks",
         "Candy",
         "Chocolate Candy",
         null,
         "THE HERSHEY COMPANY",
         "CADBURY",
         3454206
        ],
        [
         "Snacks",
         "Candy",
         "Chocolate Candy",
         null,
         "KINDER'S",
         "KINDER'S",
         80177609
        ],
        [
         "Snacks",
         "Fruit & Vegetable Snacks",
         "Fruit Snacks",
         null,
         "LIDL US, LLC",
         "LIDL",
         20744571
        ],
        [
         "Snacks",
         "Candy",
         "Chocolate Candy",
         null,
         "THE HERSHEY COMPANY",
         "REESE'S",
         3448007
        ],
        [
         "Snacks",
         "Candy",
         "Chocolate Candy",
         null,
         "LIDL US, LLC",
         "LIDL",
         20146900
        ],
        [
         "Snacks",
         "Candy",
         "Chocolate Candy",
         null,
         "LIDL US, LLC",
         "LIDL",
         20433871
        ],
        [
         "Snacks",
         "Candy",
         "Chocolate Candy",
         null,
         "THE HERSHEY COMPANY",
         "REESE'S",
         3472705
        ],
        [
         "Snacks",
         "Candy",
         "Chocolate Candy",
         null,
         "NESTLE",
         "MILKYBAR",
         59939498
        ],
        [
         "Snacks",
         "Candy",
         "Mints",
         null,
         "THE HERSHEY COMPANY",
         "BREATH SAVERS",
         3433706
        ],
        [
         "Snacks",
         "Dessert Toppings",
         "Ice Cream Sauces & Syrups",
         null,
         "THE HERSHEY COMPANY",
         "REESE'S",
         3408704
        ],
        [
         "Health & Wellness",
         "Hair Care",
         "Hair Color",
         null,
         "HENKEL",
         "SCHWARZKOPF",
         52336919068
        ],
        [
         "Snacks",
         "Candy",
         "Confection Candy",
         null,
         "THE HERSHEY COMPANY",
         "TWIZZLERS",
         3420003
        ],
        [
         "Snacks",
         "Candy",
         "Chocolate Candy",
         null,
         "KINDER'S",
         "KINDER'S",
         80177616
        ],
        [
         "Snacks",
         "Candy",
         "Gum",
         null,
         "THE HERSHEY COMPANY",
         "ICE BREAKERS",
         3464502
        ],
        [
         "Snacks",
         "Candy",
         "Candy Variety Pack",
         null,
         "THE HERSHEY COMPANY",
         "HERSHEY'S",
         3422007
        ],
        [
         "Snacks",
         "Candy",
         "Chocolate Candy",
         null,
         "THE HERSHEY COMPANY",
         "HEATH",
         3460504
        ],
        [
         "Snacks",
         "Candy",
         "Confection Candy",
         null,
         "LIDL US, LLC",
         "LIDL",
         20744731
        ],
        [
         "Snacks",
         "Candy",
         "Confection Candy",
         null,
         "PERFETTI VAN MELLE",
         "MENTOS",
         87306286
        ],
        [
         "Snacks",
         "Candy",
         "Gum",
         null,
         "THE HERSHEY COMPANY",
         "ICE BREAKERS",
         3484807
        ],
        [
         "Snacks",
         "Candy",
         "Chocolate Candy",
         null,
         "UTZ QUALITY FOODS, LLC",
         "UTZ",
         40876283
        ],
        [
         "Snacks",
         "Dessert Toppings",
         "Ice Cream Sauces & Syrups",
         null,
         "THE HERSHEY COMPANY",
         "HERSHEY'S",
         3451106
        ],
        [
         "Snacks",
         "Nuts & Seeds",
         "Almonds",
         null,
         "PLACEHOLDER MANUFACTURER",
         "BRAND NOT KNOWN",
         20159078
        ],
        [
         "Snacks",
         "Candy",
         "Chocolate Candy",
         null,
         "THE HERSHEY COMPANY",
         "ROLO",
         50251179
        ],
        [
         "Snacks",
         "Candy",
         "Chocolate Candy",
         null,
         "FRONERI",
         "SKINNY COW",
         2818900
        ],
        [
         "Snacks",
         "Candy",
         "Chocolate Candy",
         null,
         "THE HERSHEY COMPANY",
         "REESE'S",
         3403501
        ],
        [
         "Snacks",
         "Candy",
         "Gum",
         null,
         "THE HERSHEY COMPANY",
         "ICE BREAKERS",
         3498507
        ],
        [
         "Snacks",
         "Candy",
         "Chocolate Candy",
         null,
         "THE HERSHEY COMPANY",
         "REESE'S",
         3449608
        ],
        [
         "Snacks",
         "Candy",
         "Confection Candy",
         null,
         "THE HERSHEY COMPANY",
         "TWIZZLERS",
         3465202
        ],
        [
         "Snacks",
         "Candy",
         "Gum",
         null,
         "THE HERSHEY COMPANY",
         "BUBBLE YUM",
         3410103
        ],
        [
         "Snacks",
         "Candy",
         "Chocolate Candy",
         null,
         "THE MADELAINE CHOCOLATE COMPANY",
         "MADELAINE CHOCOLATE",
         60923158
        ],
        [
         "Snacks",
         "Candy",
         "Gum",
         null,
         "THE HERSHEY COMPANY",
         "ICE BREAKERS",
         3498507
        ],
        [
         "Snacks",
         "Candy",
         "Chocolate Candy",
         null,
         "LIDL US, LLC",
         "LIDL",
         20866297
        ],
        [
         "Snacks",
         "Candy",
         "Chocolate Candy",
         null,
         "THE HERSHEY COMPANY",
         "REESE'S",
         3403600
        ],
        [
         "Snacks",
         "Chips",
         "Crisps",
         null,
         "TRADER JOE'S",
         "TRADER JOE'S",
         952811
        ],
        [
         "Snacks",
         "Candy",
         "Chocolate Candy",
         null,
         "THE HERSHEY COMPANY",
         "CADBURY",
         3468708
        ],
        [
         "Snacks",
         "Candy",
         "Chocolate Candy",
         null,
         "KINDER'S",
         "KINDER'S",
         80050094
        ],
        [
         "Snacks",
         "Dessert Toppings",
         "Ice Cream Sauces & Syrups",
         null,
         "THE HERSHEY COMPANY",
         "HERSHEY'S",
         3437001
        ],
        [
         "Snacks",
         "Candy",
         "Chocolate Candy",
         null,
         "THE HERSHEY COMPANY",
         "KIT KAT",
         3465301
        ],
        [
         "Snacks",
         "Candy",
         "Mints",
         null,
         "THE HERSHEY COMPANY",
         "ICE BREAKERS",
         6811600
        ],
        [
         "Snacks",
         "Candy",
         "Confection Candy",
         null,
         "MARS WRIGLEY",
         "STARBURST",
         400510
        ],
        [
         "Snacks",
         "Candy",
         "Confection Candy",
         null,
         "LIDL US, LLC",
         "LIDL",
         20744731
        ],
        [
         "Snacks",
         "Candy",
         "Chocolate Candy",
         null,
         "THE MADELAINE CHOCOLATE COMPANY",
         "MADELAINE CHOCOLATE",
         60941022
        ],
        [
         "Snacks",
         "Candy",
         "Mints",
         null,
         "PERFETTI VAN MELLE",
         "MENTOS",
         87108538
        ],
        [
         "Snacks",
         "Candy",
         "Chocolate Candy",
         null,
         "THE HERSHEY COMPANY",
         "REESE'S",
         3417607
        ],
        [
         "Snacks",
         "Candy",
         "Chocolate Candy",
         null,
         "THE HERSHEY COMPANY",
         "REESE'S",
         3416808
        ],
        [
         "Snacks",
         "Nuts & Seeds",
         "Almonds",
         null,
         "TRADER JOE'S",
         "TRADER JOE'S",
         969307
        ],
        [
         "Snacks",
         "Candy",
         "Mints",
         null,
         "THE HERSHEY COMPANY",
         "ICE BREAKERS",
         3483909
        ],
        [
         "Snacks",
         "Candy",
         "Chocolate Candy",
         null,
         "THE HERSHEY COMPANY",
         "CADBURY",
         3454206
        ],
        [
         "Snacks",
         "Crackers",
         "Graham Crackers",
         null,
         "TRADER JOE'S",
         "TRADER JOE'S",
         438711
        ],
        [
         "Snacks",
         "Candy",
         "Chocolate Candy",
         null,
         "THE HERSHEY COMPANY",
         "REESE'S",
         3480502
        ],
        [
         "Snacks",
         "Candy",
         "Chocolate Candy",
         null,
         "GHIRARDELLI CHOCOLATE COMPANY",
         "GHIRARDELLI",
         36553235
        ],
        [
         "Snacks",
         "Candy",
         "Confection Candy",
         null,
         "THE HERSHEY COMPANY",
         "TWIZZLERS",
         3416204
        ],
        [
         "Snacks",
         "Candy",
         "Chocolate Candy",
         null,
         "THE HERSHEY COMPANY",
         "REESE'S",
         3480502
        ],
        [
         "Snacks",
         "Candy",
         "Chocolate Candy",
         null,
         "THE HERSHEY COMPANY",
         "ROLO",
         50251179
        ],
        [
         "Snacks",
         "Dessert Toppings",
         "Ice Cream Sauces & Syrups",
         null,
         "THE HERSHEY COMPANY",
         "YORK",
         3452905
        ],
        [
         "Snacks",
         "Candy",
         "Gum",
         null,
         "THE HERSHEY COMPANY",
         "ICE BREAKERS",
         3420904
        ],
        [
         "Snacks",
         "Candy",
         "Chocolate Candy",
         null,
         "LIDL US, LLC",
         "LIDL",
         20005832
        ],
        [
         "Beverages",
         "Carbonated Soft Drinks",
         "Cola",
         "Regular Cola",
         "THE COCA-COLA COMPANY",
         "COCA-COLA",
         4904403
        ],
        [
         "Snacks",
         "Candy",
         "Chocolate Candy",
         null,
         "THE HERSHEY COMPANY",
         "REESE'S",
         3416808
        ],
        [
         "Snacks",
         "Candy",
         "Chocolate Candy",
         null,
         "THE HERSHEY COMPANY",
         "HERSHEY'S",
         3473801
        ],
        [
         "Health & Wellness",
         "Hair Care",
         "Hair Color",
         null,
         "HENKEL",
         "GÖT2B",
         52336919068
        ],
        [
         "Snacks",
         "Candy",
         "Confection Candy",
         null,
         "THE HERSHEY COMPANY",
         "TWIZZLERS",
         3451502
        ],
        [
         "Snacks",
         "Candy",
         "Chocolate Candy",
         null,
         "THE HERSHEY COMPANY",
         "REESE'S",
         3421109
        ],
        [
         "Snacks",
         "Candy",
         "Mints",
         null,
         "THE HERSHEY COMPANY",
         "ICE BREAKERS",
         3400203
        ],
        [
         "Snacks",
         "Candy",
         "Gum",
         null,
         "GENERAL LICENSED IP MANUFACTURER",
         "DISNEY",
         3484708
        ],
        [
         "Snacks",
         "Candy",
         "Gum",
         null,
         "THE HERSHEY COMPANY",
         "ICE BREAKERS",
         3484807
        ],
        [
         "Snacks",
         "Crackers",
         "Graham Crackers",
         null,
         "PLACEHOLDER MANUFACTURER",
         "PRIVATE LABEL",
         20733056
        ],
        [
         "Snacks",
         "Candy",
         "Gum",
         null,
         "THE HERSHEY COMPANY",
         "ICE BREAKERS",
         3440506
        ],
        [
         "Snacks",
         "Candy",
         "Confection Candy",
         null,
         "THE HERSHEY COMPANY",
         "TWIZZLERS",
         3420003
        ],
        [
         "Snacks",
         "Candy",
         "Chocolate Candy",
         null,
         "THE HERSHEY COMPANY",
         "HERSHEY'S",
         3465608
        ],
        [
         "Snacks",
         "Candy",
         "Mints",
         null,
         "THE HERSHEY COMPANY",
         "ICE BREAKERS",
         3469200
        ],
        [
         "Snacks",
         "Candy",
         "Confection Candy",
         null,
         "THE HERSHEY COMPANY",
         "REESE'S",
         3447505
        ],
        [
         "Snacks",
         "Candy",
         "Chocolate Candy",
         null,
         "THE HERSHEY COMPANY",
         "HERSHEY'S",
         3404003
        ],
        [
         "Snacks",
         "Candy",
         "Gum",
         null,
         "PERFETTI VAN MELLE",
         "MENTOS",
         80946854
        ],
        [
         "Snacks",
         "Candy",
         "Mints",
         null,
         "THE HERSHEY COMPANY",
         "ICE BREAKERS",
         3400609
        ],
        [
         "Snacks",
         "Candy",
         "Mints",
         null,
         "THE HERSHEY COMPANY",
         "ICE BREAKERS",
         3400807
        ],
        [
         "Snacks",
         "Candy",
         "Mints",
         null,
         "THE HERSHEY COMPANY",
         "ICE BREAKERS",
         3400906
        ],
        [
         "Snacks",
         "Candy",
         "Chocolate Candy",
         null,
         "THE HERSHEY COMPANY",
         "ROLO",
         3445204
        ],
        [
         "Snacks",
         "Candy",
         "Chocolate Candy",
         null,
         "THE HERSHEY COMPANY",
         "SKOR",
         3439807
        ],
        [
         "Snacks",
         "Fruit & Vegetable Snacks",
         "Dried Vegetables",
         null,
         "TRADER JOE'S",
         "TRADER JOE'S",
         563178
        ],
        [
         "Snacks",
         "Candy",
         "Chocolate Candy",
         null,
         "THE HERSHEY COMPANY",
         "REESE'S",
         3449608
        ],
        [
         "Snacks",
         "Pretzels",
         "Covered Pretzels",
         null,
         "CREATIVE DESIGN",
         "WONDERSHOP",
         11825364
        ],
        [
         "Snacks",
         "Candy",
         "Chocolate Candy",
         null,
         "THE HERSHEY COMPANY",
         "KIT KAT",
         3465301
        ],
        [
         "Snacks",
         "Fruit & Vegetable Snacks",
         "Fruit Snacks",
         null,
         "LIDL US, LLC",
         "LIDL",
         20744571
        ],
        [
         "Snacks",
         "Nuts & Seeds",
         "Cashews",
         null,
         "TRADER JOE'S",
         "TRADER JOE'S",
         603898
        ],
        [
         "Snacks",
         "Candy",
         "Chocolate Candy",
         null,
         "THE HERSHEY COMPANY",
         "HERSHEY'S",
         3466605
        ],
        [
         "Snacks",
         "Candy",
         "Chocolate Candy",
         null,
         "LIDL US, LLC",
         "LIDL",
         20867966
        ],
        [
         "Snacks",
         "Candy",
         "Chocolate Candy",
         null,
         "THE HERSHEY COMPANY",
         "REESE'S",
         3473009
        ],
        [
         "Health & Wellness",
         "Skin Care",
         "Skin Toners & Astringents",
         "Astringents",
         "THE JM SMUCKER COMPANY",
         "DICKINSON'S",
         5265169
        ],
        [
         "Snacks",
         "Candy",
         "Chocolate Candy",
         null,
         "THE HERSHEY COMPANY",
         "REESE'S",
         3463901
        ],
        [
         "Snacks",
         "Candy",
         "Mints",
         null,
         "THE HERSHEY COMPANY",
         "ICE BREAKERS",
         3481202
        ],
        [
         "Snacks",
         "Candy",
         "Gum",
         null,
         "THE HERSHEY COMPANY",
         "ICE BREAKERS",
         3419908
        ],
        [
         "Snacks",
         "Candy",
         "Chocolate Candy",
         null,
         "THE HERSHEY COMPANY",
         "REESE'S",
         3403600
        ],
        [
         "Snacks",
         "Candy",
         "Chocolate Candy",
         null,
         "KINDER'S",
         "KINDER'S",
         80177616
        ],
        [
         "Snacks",
         "Nuts & Seeds",
         "Covered Nuts",
         null,
         "PLACEHOLDER MANUFACTURER",
         "BRAND NOT KNOWN",
         20159078
        ],
        [
         "Snacks",
         "Candy",
         "Mints",
         null,
         "PERFETTI VAN MELLE",
         "MENTOS",
         87306286
        ],
        [
         "Snacks",
         "Candy",
         "Chocolate Candy",
         null,
         "THE HERSHEY COMPANY",
         "KIT KAT",
         3424803
        ],
        [
         "Snacks",
         "Candy",
         "Chocolate Candy",
         null,
         "THE HERSHEY COMPANY",
         "HERSHEY'S",
         3422908
        ],
        [
         "Snacks",
         "Candy",
         "Chocolate Candy",
         null,
         "LIDL US, LLC",
         "LIDL",
         20866297
        ],
        [
         "Snacks",
         "Candy",
         "Chocolate Candy",
         null,
         "LIDL US, LLC",
         "LIDL",
         20433871
        ],
        [
         "Snacks",
         "Candy",
         "Gum",
         null,
         "GENERAL LICENSED IP MANUFACTURER",
         "DISNEY",
         3462003
        ],
        [
         "Snacks",
         "Candy",
         "Mints",
         null,
         "THE HERSHEY COMPANY",
         "ICE BREAKERS",
         3468005
        ],
        [
         "Snacks",
         "Candy",
         "Gum",
         null,
         "THE HERSHEY COMPANY",
         "ICE BREAKERS",
         3465004
        ],
        [
         "Snacks",
         "Candy",
         "Gum",
         null,
         "THE HERSHEY COMPANY",
         "ICE BREAKERS",
         3491508
        ],
        [
         "Snacks",
         "Candy",
         "Chocolate Candy",
         null,
         "THE HERSHEY COMPANY",
         "MR. GOODBAR",
         3424407
        ],
        [
         "Health & Wellness",
         "Hair Removal",
         "Shaving Gel & Cream",
         "Men's Shaving Gel & Cream",
         "PLACEHOLDER MANUFACTURER",
         "PRORASO",
         80199137
        ],
        [
         "Snacks",
         "Candy",
         "Gum",
         null,
         "THE HERSHEY COMPANY",
         "BUBBLE YUM",
         3474105
        ],
        [
         "Snacks",
         "Candy",
         "Gum",
         null,
         "THE HERSHEY COMPANY",
         "ICE BREAKERS",
         3484302
        ],
        [
         "Snacks",
         "Candy",
         "Confection Candy",
         null,
         "MARS WRIGLEY",
         "SKITTLES",
         11461821
        ],
        [
         "Snacks",
         "Candy",
         "Mints",
         null,
         "PERFETTI VAN MELLE",
         "MENTOS",
         87304787
        ],
        [
         "Beverages",
         "Carbonated Soft Drinks",
         "Cola",
         "Regular Cola",
         "THE COCA-COLA COMPANY",
         "COCA-COLA",
         4904403
        ],
        [
         "Snacks",
         "Dessert Toppings",
         "Ice Cream Sauces & Syrups",
         null,
         "THE HERSHEY COMPANY",
         "HERSHEY'S",
         3460009
        ],
        [
         "Snacks",
         "Candy",
         "Chocolate Candy",
         null,
         "THE HERSHEY COMPANY",
         "HERSHEY'S",
         3473702
        ],
        [
         "Snacks",
         "Candy",
         "Chocolate Candy",
         null,
         "UTZ QUALITY FOODS, LLC",
         "UTZ",
         40876283
        ],
        [
         "Snacks",
         "Candy",
         "Chocolate Candy",
         null,
         "THE HERSHEY COMPANY",
         "HERSHEY'S",
         3423905
        ],
        [
         "Snacks",
         "Candy",
         "Chocolate Candy",
         null,
         "THE HERSHEY COMPANY",
         "REESE'S",
         3473108
        ],
        [
         "Snacks",
         "Candy",
         "Chocolate Candy",
         null,
         "MARS WRIGLEY",
         "M&M'S",
         404310
        ],
        [
         "Snacks",
         "Candy",
         "Chocolate Candy",
         null,
         "THE HERSHEY COMPANY",
         "HERSHEY'S",
         3424001
        ],
        [
         "Snacks",
         "Candy",
         "Chocolate Candy",
         null,
         "THE HERSHEY COMPANY",
         "HERSHEY'S",
         3424308
        ],
        [
         "Snacks",
         "Candy",
         "Chocolate Candy",
         null,
         "LIDL US, LLC",
         "LIDL",
         20005832
        ],
        [
         "Snacks",
         "Candy",
         "Chocolate Candy",
         null,
         "MARS WRIGLEY",
         "MARS",
         40111216
        ],
        [
         "Snacks",
         "Candy",
         "Mints",
         null,
         "THE HERSHEY COMPANY",
         "ICE BREAKERS",
         3400807
        ],
        [
         "Snacks",
         "Candy",
         "Gum",
         null,
         "GENERAL LICENSED IP MANUFACTURER",
         "DISNEY",
         3454503
        ],
        [
         "Snacks",
         "Dessert Toppings",
         "Ice Cream Sauces & Syrups",
         null,
         "THE HERSHEY COMPANY",
         "YORK",
         3452905
        ],
        [
         "Snacks",
         "Candy",
         "Mints",
         null,
         "THE HERSHEY COMPANY",
         "ICE BREAKERS",
         3466506
        ],
        [
         "Snacks",
         "Candy",
         "Confection Candy",
         null,
         "PERFETTI VAN MELLE",
         "MENTOS",
         87108019
        ],
        [
         "Snacks",
         "Candy",
         "Chocolate Candy",
         null,
         "THE HERSHEY COMPANY",
         "REESE'S",
         3416105
        ],
        [
         "Snacks",
         "Candy",
         "Chocolate Candy",
         null,
         "FRONERI",
         "SKINNY COW",
         2818900
        ],
        [
         "Snacks",
         "Candy",
         "Chocolate Candy",
         null,
         "THE HERSHEY COMPANY",
         "ROLO",
         3441503
        ],
        [
         "Snacks",
         "Candy",
         "Chocolate Candy",
         null,
         "THE HERSHEY COMPANY",
         "HERSHEY'S",
         3404003
        ],
        [
         "Snacks",
         "Candy",
         "Chocolate Candy",
         null,
         "THE HERSHEY COMPANY",
         "REESE'S",
         3460108
        ],
        [
         "Snacks",
         "Fruit & Vegetable Snacks",
         "Dried Vegetables",
         null,
         "TRADER JOE'S",
         "TRADER JOE'S",
         563178
        ],
        [
         "Snacks",
         "Candy",
         "Confection Candy",
         null,
         "THE HERSHEY COMPANY",
         "TWIZZLERS",
         3401903
        ],
        [
         "Snacks",
         "Candy",
         "Mints",
         null,
         "THE HERSHEY COMPANY",
         "ICE BREAKERS",
         3422106
        ],
        [
         "Snacks",
         "Candy",
         "Mints",
         null,
         "THE HERSHEY COMPANY",
         "ICE BREAKERS",
         3475003
        ],
        [
         "Snacks",
         "Candy",
         "Chocolate Candy",
         null,
         "THE HERSHEY COMPANY",
         "ROLO",
         3445204
        ],
        [
         "Snacks",
         "Candy",
         "Chocolate Candy",
         null,
         "MARS WRIGLEY",
         "M&M'S",
         4043205
        ],
        [
         "Snacks",
         "Dessert Toppings",
         "Ice Cream Sauces & Syrups",
         null,
         "THE HERSHEY COMPANY",
         "HERSHEY'S",
         3437001
        ],
        [
         "Snacks",
         "Candy",
         "Confection Candy",
         null,
         "THE HERSHEY COMPANY",
         "TWIZZLERS",
         3451502
        ],
        [
         "Snacks",
         "Candy",
         "Gum",
         null,
         "GENERAL LICENSED IP MANUFACTURER",
         "DISNEY",
         3497203
        ],
        [
         "Snacks",
         "Candy",
         "Gum",
         null,
         "PERFETTI VAN MELLE",
         "MENTOS",
         87317527
        ],
        [
         "Snacks",
         "Candy",
         "Gum",
         null,
         "THE HERSHEY COMPANY",
         "ICE BREAKERS",
         3454503
        ],
        [
         "Snacks",
         "Candy",
         "Chocolate Candy",
         null,
         "LIDL US, LLC",
         "LIDL",
         20146900
        ],
        [
         "Snacks",
         "Candy",
         "Mints",
         null,
         "THE HERSHEY COMPANY",
         "ICE BREAKERS",
         3422106
        ],
        [
         "Snacks",
         "Candy",
         "Chocolate Candy",
         null,
         "KINDER'S",
         "KINDER'S",
         80177609
        ],
        [
         "Snacks",
         "Candy",
         "Gum",
         null,
         "THE HERSHEY COMPANY",
         "ICE BREAKERS",
         3440506
        ],
        [
         "Snacks",
         "Candy",
         "Chocolate Candy",
         null,
         "THE HERSHEY COMPANY",
         "HERSHEY'S",
         3424100
        ],
        [
         "Snacks",
         "Candy",
         "Gum",
         null,
         "PERFETTI VAN MELLE",
         "MENTOS",
         87317527
        ],
        [
         "Snacks",
         "Candy",
         "Confection Candy",
         null,
         "PERFETTI VAN MELLE",
         "MENTOS",
         87317466
        ],
        [
         "Snacks",
         "Candy",
         "Gum",
         null,
         "THE HERSHEY COMPANY",
         "BUBBLE YUM",
         3473009
        ],
        [
         "Snacks",
         "Candy",
         "Mints",
         null,
         "THE HERSHEY COMPANY",
         "ICE BREAKERS",
         3499504
        ],
        [
         "Snacks",
         "Candy",
         "Mints",
         null,
         "THE HERSHEY COMPANY",
         "ICE BREAKERS",
         3400708
        ],
        [
         "Snacks",
         "Candy",
         "Chocolate Candy",
         null,
         "THE HERSHEY COMPANY",
         "KIT KAT",
         3424803
        ],
        [
         "Snacks",
         "Candy",
         "Gum",
         null,
         "GENERAL LICENSED IP MANUFACTURER",
         "DISNEY",
         3462003
        ],
        [
         "Health & Wellness",
         "Skin Care",
         "Lip Balms & Treatments",
         "Medicated Lip Treatments",
         "BLISTEX INC",
         "BLISTEX",
         4138891
        ],
        [
         "Snacks",
         "Candy",
         "Chocolate Candy",
         null,
         "LIDL US, LLC",
         "LIDL",
         20481940
        ],
        [
         "Snacks",
         "Candy",
         "Chocolate Candy",
         null,
         "GRUPO NACIONAL DE CHOCOLATES SA",
         "NUTRESA",
         75053055
        ],
        [
         "Health & Wellness",
         "Skin Care",
         "Lip Balms & Treatments",
         "Medicated Lip Treatments",
         "E.T. BROWNE DRUG CO., INC.",
         "PALMER'S SKIN & HAIR CARE",
         1018158
        ],
        [
         "Snacks",
         "Nuts & Seeds",
         "Pistachios",
         null,
         "LIDL US, LLC",
         "LIDL",
         20522445
        ],
        [
         "Snacks",
         "Candy",
         "Gum",
         null,
         "THE HERSHEY COMPANY",
         "ICE BREAKERS",
         3420904
        ],
        [
         "Snacks",
         "Nuts & Seeds",
         "Peanuts",
         null,
         "MARS WRIGLEY",
         "M&M'S",
         4003207
        ],
        [
         "Snacks",
         "Candy",
         "Chocolate Candy",
         null,
         "PLACEHOLDER MANUFACTURER",
         "BRAND NOT KNOWN",
         404310
        ],
        [
         "Snacks",
         "Candy",
         "Chocolate Candy",
         null,
         "THE HERSHEY COMPANY",
         "REESE'S",
         3431207
        ],
        [
         "Snacks",
         "Candy",
         "Chocolate Candy",
         null,
         "THE HERSHEY COMPANY",
         "REESE'S",
         3444306
        ],
        [
         "Snacks",
         "Candy",
         "Gum",
         null,
         "THE HERSHEY COMPANY",
         "ICE BREAKERS",
         3484302
        ],
        [
         "Snacks",
         "Candy",
         "Chocolate Candy",
         null,
         "THE HERSHEY COMPANY",
         "REESE'S",
         3414408
        ],
        [
         "Snacks",
         "Candy",
         "Mints",
         null,
         "THE HERSHEY COMPANY",
         "ICE BREAKERS",
         3469200
        ],
        [
         "Snacks",
         "Candy",
         "Chocolate Candy",
         null,
         "THE HERSHEY COMPANY",
         "REESE'S",
         3417607
        ],
        [
         "Snacks",
         "Candy",
         "Chocolate Candy",
         null,
         "LIDL US, LLC",
         "LIDL",
         20481940
        ],
        [
         "Snacks",
         "Candy",
         "Chocolate Candy",
         null,
         "THE HERSHEY COMPANY",
         "KIT KAT",
         3423806
        ],
        [
         "Snacks",
         "Candy",
         "Confection Candy",
         null,
         "THE HERSHEY COMPANY",
         "TWIZZLERS",
         3401903
        ],
        [
         "Snacks",
         "Candy",
         "Chocolate Candy",
         null,
         "THE MADELAINE CHOCOLATE COMPANY",
         "MADELAINE CHOCOLATE",
         60908308
        ],
        [
         "Snacks",
         "Candy",
         "Mints",
         null,
         "THE HERSHEY COMPANY",
         "ICE BREAKERS",
         3404201
        ],
        [
         "Snacks",
         "Candy",
         "Mints",
         null,
         "PERFETTI VAN MELLE",
         "MENTOS",
         87304787
        ],
        [
         "Snacks",
         "Candy",
         "Mints",
         null,
         "THE HERSHEY COMPANY",
         "ICE BREAKERS",
         3400906
        ],
        [
         "Snacks",
         "Candy",
         "Chocolate Candy",
         null,
         "THE HERSHEY COMPANY",
         "REESE'S",
         3463901
        ],
        [
         "Snacks",
         "Candy",
         "Chocolate Candy",
         null,
         "THE HERSHEY COMPANY",
         "ROLO",
         3424506
        ],
        [
         "Snacks",
         "Candy",
         "Chocolate Candy",
         null,
         "THE HERSHEY COMPANY",
         "KIT KAT",
         5289516
        ],
        [
         "Snacks",
         "Candy",
         "Gum",
         null,
         "GENERAL LICENSED IP MANUFACTURER",
         "DISNEY",
         3497203
        ],
        [
         "Snacks",
         "Candy",
         "Chocolate Candy",
         null,
         "THE HERSHEY COMPANY",
         "HERSHEY'S",
         3455609
        ],
        [
         "Snacks",
         "Nuts & Seeds",
         "Covered Nuts",
         null,
         "TRADER JOE'S",
         "TRADER JOE'S",
         969307
        ],
        [
         "Snacks",
         "Candy",
         "Chocolate Candy",
         null,
         "THE HERSHEY COMPANY",
         "REESE'S",
         3450208
        ],
        [
         "Snacks",
         "Candy",
         "Chocolate Candy",
         null,
         "THE HERSHEY COMPANY",
         "CADBURY",
         3436608
        ],
        [
         "Snacks",
         "Candy",
         "Chocolate Candy",
         null,
         "LIDL US, LLC",
         "LIDL",
         20867966
        ],
        [
         "Snacks",
         "Candy",
         "Confection Candy",
         null,
         "GRUPO NACIONAL DE CHOCOLATES SA",
         "NUTRESA",
         75053055
        ],
        [
         "Snacks",
         "Candy",
         "Chocolate Candy",
         null,
         "THE HERSHEY COMPANY",
         "HERSHEY'S",
         3422908
        ],
        [
         "Snacks",
         "Candy",
         "Gum",
         null,
         "THE HERSHEY COMPANY",
         "ICE BREAKERS",
         3465103
        ],
        [
         "Snacks",
         "Candy",
         "Chocolate Candy",
         null,
         "THE HERSHEY COMPANY",
         "HERSHEY'S",
         3473801
        ],
        [
         "Snacks",
         "Candy",
         "Mints",
         null,
         "THE HERSHEY COMPANY",
         "ICE BREAKERS",
         3499504
        ],
        [
         "Snacks",
         "Candy",
         "Chocolate Candy",
         null,
         "MARS WRIGLEY",
         "M&M'S",
         4003207
        ],
        [
         "Snacks",
         "Candy",
         "Chocolate Candy",
         null,
         "PLACEHOLDER MANUFACTURER",
         "BRAND NOT KNOWN",
         20293598
        ],
        [
         "Snacks",
         "Candy",
         "Chocolate Candy",
         null,
         "THE HERSHEY COMPANY",
         "CADBURY",
         3436608
        ],
        [
         "Snacks",
         "Crackers",
         "Graham Crackers",
         null,
         "LIDL US, LLC",
         "LIDL",
         20733056
        ],
        [
         "Snacks",
         "Candy",
         "Chocolate Candy",
         null,
         "KINDER'S",
         "KINDER'S",
         40084176
        ],
        [
         "Health & Wellness",
         "Hair Care",
         "Hair Color",
         null,
         "HENKEL",
         "SCHWARZKOPF",
         17000329260
        ],
        [
         "Snacks",
         "Candy",
         "Chocolate Candy",
         null,
         "FERRERO GROUP",
         "KINDER",
         80310167
        ],
        [
         "Snacks",
         "Nuts & Seeds",
         "Mixed Nuts",
         null,
         "GHIRARDELLI CHOCOLATE COMPANY",
         "GHIRARDELLI",
         13468439
        ],
        [
         "Snacks",
         "Candy",
         "Confection Candy",
         null,
         "NESTLE",
         "ROWNTREES",
         50426461
        ],
        [
         "Snacks",
         "Candy",
         "Mints",
         null,
         "THE HERSHEY COMPANY",
         "ICE BREAKERS",
         3466506
        ],
        [
         "Snacks",
         "Dessert Toppings",
         "Ice Cream Sauces & Syrups",
         null,
         "THE HERSHEY COMPANY",
         "HERSHEY'S",
         3412503
        ],
        [
         "Snacks",
         "Candy",
         "Chocolate Candy",
         null,
         "THE HERSHEY COMPANY",
         "REESE'S",
         3416105
        ],
        [
         "Snacks",
         "Candy",
         "Mints",
         null,
         "THE HERSHEY COMPANY",
         "ICE BREAKERS",
         3400708
        ],
        [
         "Snacks",
         "Candy",
         "Chocolate Candy",
         null,
         "THE HERSHEY COMPANY",
         "REESE'S",
         3444306
        ],
        [
         "Snacks",
         "Candy",
         "Chocolate Candy",
         null,
         "THE HERSHEY COMPANY",
         "KIT KAT",
         3404607
        ],
        [
         "Snacks",
         "Dessert Toppings",
         "Ice Cream Sauces & Syrups",
         null,
         "THE HERSHEY COMPANY",
         "HERSHEY'S",
         3412503
        ],
        [
         "Snacks",
         "Candy",
         "Gum",
         null,
         "THE HERSHEY COMPANY",
         "ICE BREAKERS",
         3454701
        ],
        [
         "Snacks",
         "Candy",
         "Chocolate Candy",
         null,
         "THE HERSHEY COMPANY",
         "KIT KAT",
         5289516
        ],
        [
         "Snacks",
         "Candy",
         "Chocolate Candy",
         null,
         "THE HERSHEY COMPANY",
         "KIT KAT",
         3423806
        ],
        [
         "Snacks",
         "Candy",
         "Chocolate Candy",
         null,
         "THE HERSHEY COMPANY",
         "REESE'S",
         3414408
        ],
        [
         "Snacks",
         "Candy",
         "Gum",
         null,
         "THE HERSHEY COMPANY",
         "ICE BREAKERS",
         3454701
        ],
        [
         "Snacks",
         "Candy",
         "Chocolate Candy",
         null,
         "LIDL US, LLC",
         "LIDL",
         20522445
        ],
        [
         "Snacks",
         "Candy",
         "Chocolate Candy",
         null,
         "NESTLE",
         "MILKYBAR",
         59939498
        ],
        [
         "Snacks",
         "Fruit & Vegetable Snacks",
         "Dried Vegetables",
         null,
         "TRADER JOE'S",
         "TRADER JOE'S",
         853743
        ],
        [
         "Snacks",
         "Dessert Toppings",
         "Ice Cream Sauces & Syrups",
         null,
         "THE HERSHEY COMPANY",
         "HERSHEY'S",
         3460009
        ],
        [
         "Snacks",
         "Nuts & Seeds",
         "Mixed Nuts",
         null,
         "GHIRARDELLI CHOCOLATE COMPANY",
         "GHIRARDELLI",
         13468439
        ],
        [
         "Snacks",
         "Candy",
         "Chocolate Candy",
         null,
         "THE HERSHEY COMPANY",
         "HERSHEY'S",
         3424605
        ],
        [
         "Snacks",
         "Candy",
         "Chocolate Candy",
         null,
         "GHIRARDELLI CHOCOLATE COMPANY",
         "GHIRARDELLI",
         36553235
        ],
        [
         "Snacks",
         "Nuts & Seeds",
         "Cashews",
         null,
         "TRADER JOE'S",
         "TRADER JOE'S",
         603898
        ],
        [
         "Snacks",
         "Candy",
         "Chocolate Candy",
         null,
         "PLACEHOLDER MANUFACTURER",
         "BRAND NOT KNOWN",
         20866280
        ],
        [
         "Snacks",
         "Candy",
         "Chocolate Candy",
         null,
         "THE HERSHEY COMPANY",
         "REESE'S",
         3434000
        ],
        [
         "Snacks",
         "Crackers",
         "Graham Crackers",
         null,
         "TRADER JOE'S",
         "TRADER JOE'S",
         438711
        ],
        [
         "Snacks",
         "Candy",
         "Chocolate Candy",
         null,
         "PROCTER & GAMBLE",
         "BOUNTY",
         40111216
        ],
        [
         "Snacks",
         "Candy",
         "Confection Candy",
         null,
         "THE HERSHEY COMPANY",
         "TWIZZLERS",
         3452400
        ],
        [
         "Snacks",
         "Candy",
         "Chocolate Candy",
         null,
         "THE HERSHEY COMPANY",
         "REESE'S",
         3466803
        ],
        [
         "Snacks",
         "Candy",
         "Chocolate Candy",
         null,
         "THE HERSHEY COMPANY",
         "SKOR",
         3439807
        ],
        [
         "Snacks",
         "Candy",
         "Confection Candy",
         null,
         "MARS WRIGLEY",
         "SKITTLES",
         11461821
        ],
        [
         "Snacks",
         "Candy",
         "Chocolate Candy",
         null,
         "THE HERSHEY COMPANY",
         "REESE'S",
         3420300
        ],
        [
         "Snacks",
         "Dessert Toppings",
         "Ice Cream Sauces & Syrups",
         null,
         "THE HERSHEY COMPANY",
         "HERSHEY'S",
         3483602
        ],
        [
         "Snacks",
         "Candy",
         "Chocolate Candy",
         null,
         "THE HERSHEY COMPANY",
         "HERSHEY'S",
         3465608
        ],
        [
         "Snacks",
         "Candy",
         "Confection Candy",
         null,
         "PERFETTI VAN MELLE",
         "MENTOS",
         87108538
        ],
        [
         "Health & Wellness",
         "Hair Care",
         "Hair Color",
         null,
         "HENKEL",
         "GÖT2B",
         17000329260
        ],
        [
         "Snacks",
         "Candy",
         "Chocolate Candy",
         null,
         "THE HERSHEY COMPANY",
         "HERSHEY'S",
         3455609
        ],
        [
         "Snacks",
         "Candy",
         "Chocolate Candy",
         null,
         "LIDL US, LLC",
         "LIDL",
         20293567
        ],
        [
         "Snacks",
         "Candy",
         "Chocolate Candy",
         null,
         "THE HERSHEY COMPANY",
         "HERSHEY'S",
         3466605
        ],
        [
         "Snacks",
         "Candy",
         "Chocolate Candy",
         null,
         "THE HERSHEY COMPANY",
         "REESE'S",
         3466803
        ],
        [
         "Snacks",
         "Dessert Toppings",
         "Ice Cream Sauces & Syrups",
         null,
         "THE HERSHEY COMPANY",
         "HERSHEY'S",
         3484500
        ],
        [
         "Snacks",
         "Candy",
         "Gum",
         null,
         "THE HERSHEY COMPANY",
         "ICE BREAKERS",
         3419908
        ],
        [
         "Snacks",
         "Candy",
         "Chocolate Candy",
         null,
         "LIDL US, LLC",
         "LIDL",
         20725358
        ],
        [
         "Snacks",
         "Dips & Salsa",
         "Hummus",
         null,
         "TRADER JOE'S",
         "TRADER JOE'S",
         906425
        ],
        [
         "Snacks",
         "Candy",
         "Chocolate Candy",
         null,
         "THE HERSHEY COMPANY",
         "HERSHEY'S",
         3473702
        ],
        [
         "Snacks",
         "Candy",
         "Chocolate Candy",
         null,
         "THE HERSHEY COMPANY",
         "HERSHEY'S KISSES",
         3471203
        ],
        [
         "Snacks",
         "Candy",
         "Chocolate Candy",
         null,
         "THE HERSHEY COMPANY",
         "ROLO",
         3441503
        ],
        [
         "Snacks",
         "Candy",
         "Mints",
         null,
         "THE HERSHEY COMPANY",
         "ICE BREAKERS",
         3400401
        ],
        [
         "Snacks",
         "Candy",
         "Chocolate Candy",
         null,
         "THE HERSHEY COMPANY",
         "HERSHEY'S",
         3447109
        ]
       ],
       "datasetInfos": [],
       "dbfsResultPath": null,
       "isJsonSchema": true,
       "metadata": {
        "createTempViewForImplicitDf": true,
        "dataframeName": "_sqldf",
        "executionCount": 48
       },
       "overflow": false,
       "plotOptions": {
        "customPlotOptions": {},
        "displayType": "table",
        "pivotAggregation": null,
        "pivotColumns": null,
        "xColumns": null,
        "yColumns": null
       },
       "removedWidgets": [],
       "schema": [
        {
         "metadata": "{}",
         "name": "CATEGORY_1",
         "type": "\"string\""
        },
        {
         "metadata": "{}",
         "name": "CATEGORY_2",
         "type": "\"string\""
        },
        {
         "metadata": "{}",
         "name": "CATEGORY_3",
         "type": "\"string\""
        },
        {
         "metadata": "{}",
         "name": "CATEGORY_4",
         "type": "\"string\""
        },
        {
         "metadata": "{}",
         "name": "MANUFACTURER",
         "type": "\"string\""
        },
        {
         "metadata": "{}",
         "name": "BRAND",
         "type": "\"string\""
        },
        {
         "metadata": "{}",
         "name": "BARCODE",
         "type": "\"long\""
        }
       ],
       "type": "table"
      }
     },
     "output_type": "display_data"
    }
   ],
   "source": [
    "%sql\n",
    "-- Some BARCODEs have multiple BRAND names, and it will cause duplicate records when joining tables\n",
    "SELECT *\n",
    "FROM products \n",
    "WHERE BARCODE IN (\n",
    "  SELECT BARCODE\n",
    "  FROM products\n",
    "  GROUP BY BARCODE\n",
    "  HAVING count(BRAND) > 1\n",
    ")"
   ]
  },
  {
   "cell_type": "markdown",
   "metadata": {
    "application/vnd.databricks.v1+cell": {
     "cellMetadata": {},
     "inputWidgets": {},
     "nuid": "e1d45666-edd5-4328-86bd-abb34f99c61a",
     "showTitle": false,
     "tableResultSettingsMap": {},
     "title": ""
    }
   },
   "source": [
    "## 1.4 Some Challenges after Joining Tables \n",
    "There are total 50,000 records in transaction table; however, due to some duplicate BARCODEs, there are more than 50,000 records (50,024) when joining three tables together. "
   ]
  },
  {
   "cell_type": "code",
   "execution_count": 0,
   "metadata": {
    "application/vnd.databricks.v1+cell": {
     "cellMetadata": {
      "byteLimit": 2048000,
      "implicitDf": true,
      "rowLimit": 10000
     },
     "inputWidgets": {},
     "nuid": "9463a2b9-dbf0-4a4a-9208-0e51a7801a86",
     "showTitle": false,
     "tableResultSettingsMap": {},
     "title": ""
    }
   },
   "outputs": [
    {
     "output_type": "display_data",
     "data": {
      "text/html": [
       "<style scoped>\n",
       "  .table-result-container {\n",
       "    max-height: 300px;\n",
       "    overflow: auto;\n",
       "  }\n",
       "  table, th, td {\n",
       "    border: 1px solid black;\n",
       "    border-collapse: collapse;\n",
       "  }\n",
       "  th, td {\n",
       "    padding: 5px;\n",
       "  }\n",
       "  th {\n",
       "    text-align: left;\n",
       "  }\n",
       "</style><div class='table-result-container'><table class='table-result'><thead style='background-color: white'><tr><th>count(1)</th></tr></thead><tbody><tr><td>50000</td></tr></tbody></table></div>"
      ]
     },
     "metadata": {
      "application/vnd.databricks.v1+output": {
       "addedWidgets": {},
       "aggData": [],
       "aggError": "",
       "aggOverflow": false,
       "aggSchema": [],
       "aggSeriesLimitReached": false,
       "aggType": "",
       "arguments": {},
       "columnCustomDisplayInfos": {},
       "data": [
        [
         50000
        ]
       ],
       "datasetInfos": [],
       "dbfsResultPath": null,
       "isJsonSchema": true,
       "metadata": {
        "createTempViewForImplicitDf": true,
        "dataframeName": "_sqldf",
        "executionCount": 54
       },
       "overflow": false,
       "plotOptions": {
        "customPlotOptions": {},
        "displayType": "table",
        "pivotAggregation": null,
        "pivotColumns": null,
        "xColumns": null,
        "yColumns": null
       },
       "removedWidgets": [],
       "schema": [
        {
         "metadata": "{\"__autoGeneratedAlias\":\"true\"}",
         "name": "count(1)",
         "type": "\"long\""
        }
       ],
       "type": "table"
      }
     },
     "output_type": "display_data"
    }
   ],
   "source": [
    "%sql\n",
    "-- count of total transaction records\n",
    "SELECT count(*)\n",
    "FROM transactions"
   ]
  },
  {
   "cell_type": "code",
   "execution_count": 0,
   "metadata": {
    "application/vnd.databricks.v1+cell": {
     "cellMetadata": {
      "byteLimit": 2048000,
      "implicitDf": true,
      "rowLimit": 10000
     },
     "inputWidgets": {},
     "nuid": "4d6e0a0d-a74d-4f16-8c84-bbb6b95d7494",
     "showTitle": false,
     "tableResultSettingsMap": {},
     "title": ""
    }
   },
   "outputs": [
    {
     "output_type": "display_data",
     "data": {
      "text/html": [
       "<style scoped>\n",
       "  .table-result-container {\n",
       "    max-height: 300px;\n",
       "    overflow: auto;\n",
       "  }\n",
       "  table, th, td {\n",
       "    border: 1px solid black;\n",
       "    border-collapse: collapse;\n",
       "  }\n",
       "  th, td {\n",
       "    padding: 5px;\n",
       "  }\n",
       "  th {\n",
       "    text-align: left;\n",
       "  }\n",
       "</style><div class='table-result-container'><table class='table-result'><thead style='background-color: white'><tr><th>count(1)</th></tr></thead><tbody><tr><td>50024</td></tr></tbody></table></div>"
      ]
     },
     "metadata": {
      "application/vnd.databricks.v1+output": {
       "addedWidgets": {},
       "aggData": [],
       "aggError": "",
       "aggOverflow": false,
       "aggSchema": [],
       "aggSeriesLimitReached": false,
       "aggType": "",
       "arguments": {},
       "columnCustomDisplayInfos": {},
       "data": [
        [
         50024
        ]
       ],
       "datasetInfos": [],
       "dbfsResultPath": null,
       "isJsonSchema": true,
       "metadata": {
        "createTempViewForImplicitDf": true,
        "dataframeName": "_sqldf",
        "executionCount": 55
       },
       "overflow": false,
       "plotOptions": {
        "customPlotOptions": {},
        "displayType": "table",
        "pivotAggregation": null,
        "pivotColumns": null,
        "xColumns": null,
        "yColumns": null
       },
       "removedWidgets": [],
       "schema": [
        {
         "metadata": "{\"__autoGeneratedAlias\":\"true\"}",
         "name": "count(1)",
         "type": "\"long\""
        }
       ],
       "type": "table"
      }
     },
     "output_type": "display_data"
    }
   ],
   "source": [
    "%sql\n",
    "-- count of total transaction records after joining three tables\n",
    "SELECT count(*)\n",
    "FROM transactions a \n",
    "LEFT JOIN users b \n",
    "  ON a.USER_ID = b.ID\n",
    "LEFT JOIN products c \n",
    "  ON a.BARCODE = c.BARCODE"
   ]
  },
  {
   "cell_type": "markdown",
   "metadata": {
    "application/vnd.databricks.v1+cell": {
     "cellMetadata": {},
     "inputWidgets": {},
     "nuid": "8e1f5a7e-5cbf-4f09-af7c-1274ec0b30c3",
     "showTitle": false,
     "tableResultSettingsMap": {},
     "title": ""
    }
   },
   "source": [
    "# 2. SQL Queries"
   ]
  },
  {
   "cell_type": "markdown",
   "metadata": {
    "application/vnd.databricks.v1+cell": {
     "cellMetadata": {},
     "inputWidgets": {},
     "nuid": "b07a2fef-6a3a-4c95-baf7-94651ed23ca9",
     "showTitle": false,
     "tableResultSettingsMap": {},
     "title": ""
    }
   },
   "source": [
    "## 2.1 Closed-ended question\n",
    "What are the top 5 brands by receipts scanned among users 21 and over?"
   ]
  },
  {
   "cell_type": "code",
   "execution_count": 0,
   "metadata": {
    "application/vnd.databricks.v1+cell": {
     "cellMetadata": {
      "byteLimit": 2048000,
      "implicitDf": true,
      "rowLimit": 10000
     },
     "inputWidgets": {},
     "nuid": "1325789b-d45f-4ee6-8f7e-13720056ca27",
     "showTitle": false,
     "tableResultSettingsMap": {},
     "title": ""
    }
   },
   "outputs": [
    {
     "output_type": "display_data",
     "data": {
      "text/html": [
       "<style scoped>\n",
       "  .table-result-container {\n",
       "    max-height: 300px;\n",
       "    overflow: auto;\n",
       "  }\n",
       "  table, th, td {\n",
       "    border: 1px solid black;\n",
       "    border-collapse: collapse;\n",
       "  }\n",
       "  th, td {\n",
       "    padding: 5px;\n",
       "  }\n",
       "  th {\n",
       "    text-align: left;\n",
       "  }\n",
       "</style><div class='table-result-container'><table class='table-result'><thead style='background-color: white'><tr><th>BRAND</th><th>cnt</th><th>rnk</th></tr></thead><tbody><tr><td>null</td><td>146</td><td>1</td></tr><tr><td>NERDS CANDY</td><td>6</td><td>2</td></tr><tr><td>DOVE</td><td>6</td><td>2</td></tr><tr><td>TRIDENT</td><td>4</td><td>3</td></tr><tr><td>GREAT VALUE</td><td>4</td><td>3</td></tr><tr><td>CHEX MIX</td><td>4</td><td>3</td></tr><tr><td>FRESHNESS GUARANTEED</td><td>2</td><td>4</td></tr><tr><td>L'OREAL PARIS HAIR CARE</td><td>2</td><td>4</td></tr><tr><td>BABY RUTH</td><td>2</td><td>4</td></tr><tr><td>DEAN'S DAIRY DIP</td><td>2</td><td>4</td></tr><tr><td>MEIJER</td><td>2</td><td>4</td></tr><tr><td>COORS LIGHT</td><td>2</td><td>4</td></tr><tr><td>TRESEMMÉ</td><td>2</td><td>4</td></tr><tr><td>PRINGLES</td><td>2</td><td>4</td></tr><tr><td>FOOD CLUB</td><td>2</td><td>4</td></tr><tr><td>REESE SPECIALTY FOODS</td><td>2</td><td>4</td></tr><tr><td>ORAL-B</td><td>2</td><td>4</td></tr><tr><td>DORITOS</td><td>2</td><td>4</td></tr><tr><td>SKITTLES</td><td>2</td><td>4</td></tr><tr><td>RUFFLES</td><td>2</td><td>4</td></tr><tr><td>SPEED STICK</td><td>2</td><td>4</td></tr><tr><td>LAY'S</td><td>2</td><td>4</td></tr><tr><td>TWIX</td><td>2</td><td>4</td></tr><tr><td>PEPPERIDGE FARM</td><td>2</td><td>4</td></tr><tr><td>SOUR PATCH KIDS</td><td>2</td><td>4</td></tr><tr><td>ALWAYS</td><td>2</td><td>4</td></tr><tr><td>HERSHEY'S</td><td>2</td><td>4</td></tr><tr><td>CREST</td><td>2</td><td>4</td></tr><tr><td>SUAVE</td><td>2</td><td>4</td></tr><tr><td>LITTLE DEBBIE</td><td>2</td><td>4</td></tr><tr><td>JERGENS</td><td>2</td><td>4</td></tr><tr><td>CVS</td><td>2</td><td>4</td></tr><tr><td>UTZ</td><td>2</td><td>4</td></tr><tr><td>ENTENMANN'S SWEET BAKED GOODS</td><td>2</td><td>4</td></tr><tr><td>SNICKERS</td><td>2</td><td>4</td></tr><tr><td>NABISCO</td><td>2</td><td>4</td></tr><tr><td>NUTTER BUTTER</td><td>2</td><td>4</td></tr><tr><td>COCA-COLA</td><td>2</td><td>4</td></tr><tr><td>SARGENTO</td><td>2</td><td>4</td></tr><tr><td>DEAN'S DAIRY</td><td>2</td><td>4</td></tr><tr><td>REESE'S</td><td>2</td><td>4</td></tr><tr><td>OLD SPICE</td><td>2</td><td>4</td></tr><tr><td>ANGIE'S BOOMCHICKAPOP</td><td>2</td><td>4</td></tr><tr><td>M&M'S</td><td>2</td><td>4</td></tr><tr><td>QUAKER</td><td>2</td><td>4</td></tr><tr><td>OREO</td><td>2</td><td>4</td></tr><tr><td>HIDDEN VALLEY</td><td>2</td><td>4</td></tr><tr><td>SNYDERS OF HANOVER</td><td>2</td><td>4</td></tr><tr><td>MARZETTI</td><td>2</td><td>4</td></tr><tr><td>MILK DUDS</td><td>2</td><td>4</td></tr><tr><td>TOSTITOS</td><td>2</td><td>4</td></tr></tbody></table></div>"
      ]
     },
     "metadata": {
      "application/vnd.databricks.v1+output": {
       "addedWidgets": {},
       "aggData": [],
       "aggError": "",
       "aggOverflow": false,
       "aggSchema": [],
       "aggSeriesLimitReached": false,
       "aggType": "",
       "arguments": {},
       "columnCustomDisplayInfos": {},
       "data": [
        [
         null,
         146,
         1
        ],
        [
         "NERDS CANDY",
         6,
         2
        ],
        [
         "DOVE",
         6,
         2
        ],
        [
         "TRIDENT",
         4,
         3
        ],
        [
         "GREAT VALUE",
         4,
         3
        ],
        [
         "CHEX MIX",
         4,
         3
        ],
        [
         "FRESHNESS GUARANTEED",
         2,
         4
        ],
        [
         "L'OREAL PARIS HAIR CARE",
         2,
         4
        ],
        [
         "BABY RUTH",
         2,
         4
        ],
        [
         "DEAN'S DAIRY DIP",
         2,
         4
        ],
        [
         "MEIJER",
         2,
         4
        ],
        [
         "COORS LIGHT",
         2,
         4
        ],
        [
         "TRESEMMÉ",
         2,
         4
        ],
        [
         "PRINGLES",
         2,
         4
        ],
        [
         "FOOD CLUB",
         2,
         4
        ],
        [
         "REESE SPECIALTY FOODS",
         2,
         4
        ],
        [
         "ORAL-B",
         2,
         4
        ],
        [
         "DORITOS",
         2,
         4
        ],
        [
         "SKITTLES",
         2,
         4
        ],
        [
         "RUFFLES",
         2,
         4
        ],
        [
         "SPEED STICK",
         2,
         4
        ],
        [
         "LAY'S",
         2,
         4
        ],
        [
         "TWIX",
         2,
         4
        ],
        [
         "PEPPERIDGE FARM",
         2,
         4
        ],
        [
         "SOUR PATCH KIDS",
         2,
         4
        ],
        [
         "ALWAYS",
         2,
         4
        ],
        [
         "HERSHEY'S",
         2,
         4
        ],
        [
         "CREST",
         2,
         4
        ],
        [
         "SUAVE",
         2,
         4
        ],
        [
         "LITTLE DEBBIE",
         2,
         4
        ],
        [
         "JERGENS",
         2,
         4
        ],
        [
         "CVS",
         2,
         4
        ],
        [
         "UTZ",
         2,
         4
        ],
        [
         "ENTENMANN'S SWEET BAKED GOODS",
         2,
         4
        ],
        [
         "SNICKERS",
         2,
         4
        ],
        [
         "NABISCO",
         2,
         4
        ],
        [
         "NUTTER BUTTER",
         2,
         4
        ],
        [
         "COCA-COLA",
         2,
         4
        ],
        [
         "SARGENTO",
         2,
         4
        ],
        [
         "DEAN'S DAIRY",
         2,
         4
        ],
        [
         "REESE'S",
         2,
         4
        ],
        [
         "OLD SPICE",
         2,
         4
        ],
        [
         "ANGIE'S BOOMCHICKAPOP",
         2,
         4
        ],
        [
         "M&M'S",
         2,
         4
        ],
        [
         "QUAKER",
         2,
         4
        ],
        [
         "OREO",
         2,
         4
        ],
        [
         "HIDDEN VALLEY",
         2,
         4
        ],
        [
         "SNYDERS OF HANOVER",
         2,
         4
        ],
        [
         "MARZETTI",
         2,
         4
        ],
        [
         "MILK DUDS",
         2,
         4
        ],
        [
         "TOSTITOS",
         2,
         4
        ]
       ],
       "datasetInfos": [],
       "dbfsResultPath": null,
       "isJsonSchema": true,
       "metadata": {
        "createTempViewForImplicitDf": true,
        "dataframeName": "_sqldf",
        "executionCount": 87
       },
       "overflow": false,
       "plotOptions": {
        "customPlotOptions": {},
        "displayType": "table",
        "pivotAggregation": null,
        "pivotColumns": null,
        "xColumns": null,
        "yColumns": null
       },
       "removedWidgets": [],
       "schema": [
        {
         "metadata": "{}",
         "name": "BRAND",
         "type": "\"string\""
        },
        {
         "metadata": "{}",
         "name": "cnt",
         "type": "\"long\""
        },
        {
         "metadata": "{}",
         "name": "rnk",
         "type": "\"integer\""
        }
       ],
       "type": "table"
      }
     },
     "output_type": "display_data"
    }
   ],
   "source": [
    "%sql\n",
    "SELECT BRAND, cnt, rnk \n",
    "FROM (\n",
    "  SELECT c.BRAND, COUNT(RECEIPT_ID) cnt, DENSE_RANK()OVER(order by count(RECEIPT_ID) DESC) as rnk\n",
    "  FROM transactions a \n",
    "  LEFT JOIN users b \n",
    "    on a.USER_ID = b.ID\n",
    "  LEFT JOIN products c \n",
    "    on a.BARCODE = c.BARCODE\n",
    "  WHERE datediff(current_date(), b.BIRTH_DATE) >= 21\n",
    "  GROUP BY c.BRAND\n",
    ")\n",
    "WHERE rnk <= 5\n",
    "ORDER BY rnk asc, cnt desc"
   ]
  },
  {
   "cell_type": "markdown",
   "metadata": {
    "application/vnd.databricks.v1+cell": {
     "cellMetadata": {},
     "inputWidgets": {},
     "nuid": "01715a0b-f833-496f-bc51-de48ff609d41",
     "showTitle": false,
     "tableResultSettingsMap": {},
     "title": ""
    }
   },
   "source": [
    "## 2.2 Closed-ended question\n",
    "What are the top 5 brands by sales among users that have had their account for at least six months?"
   ]
  },
  {
   "cell_type": "code",
   "execution_count": 0,
   "metadata": {
    "application/vnd.databricks.v1+cell": {
     "cellMetadata": {
      "byteLimit": 2048000,
      "implicitDf": true,
      "rowLimit": 10000
     },
     "inputWidgets": {},
     "nuid": "0a1a3768-3584-4fc2-8bc2-ae88779039ec",
     "showTitle": false,
     "tableResultSettingsMap": {},
     "title": ""
    }
   },
   "outputs": [
    {
     "output_type": "display_data",
     "data": {
      "text/html": [
       "<style scoped>\n",
       "  .table-result-container {\n",
       "    max-height: 300px;\n",
       "    overflow: auto;\n",
       "  }\n",
       "  table, th, td {\n",
       "    border: 1px solid black;\n",
       "    border-collapse: collapse;\n",
       "  }\n",
       "  th, td {\n",
       "    padding: 5px;\n",
       "  }\n",
       "  th {\n",
       "    text-align: left;\n",
       "  }\n",
       "</style><div class='table-result-container'><table class='table-result'><thead style='background-color: white'><tr><th>BRAND</th><th>total_sale</th><th>rnk</th></tr></thead><tbody><tr><td>null</td><td>447.06</td><td>1</td></tr><tr><td>CVS</td><td>72.0</td><td>2</td></tr><tr><td>TRIDENT</td><td>46.72</td><td>3</td></tr><tr><td>DOVE</td><td>42.88</td><td>4</td></tr><tr><td>COORS LIGHT</td><td>34.96</td><td>5</td></tr></tbody></table></div>"
      ]
     },
     "metadata": {
      "application/vnd.databricks.v1+output": {
       "addedWidgets": {},
       "aggData": [],
       "aggError": "",
       "aggOverflow": false,
       "aggSchema": [],
       "aggSeriesLimitReached": false,
       "aggType": "",
       "arguments": {},
       "columnCustomDisplayInfos": {},
       "data": [
        [
         null,
         447.06,
         1
        ],
        [
         "CVS",
         72.0,
         2
        ],
        [
         "TRIDENT",
         46.72,
         3
        ],
        [
         "DOVE",
         42.88,
         4
        ],
        [
         "COORS LIGHT",
         34.96,
         5
        ]
       ],
       "datasetInfos": [],
       "dbfsResultPath": null,
       "isJsonSchema": true,
       "metadata": {
        "createTempViewForImplicitDf": true,
        "dataframeName": "_sqldf",
        "executionCount": 86
       },
       "overflow": false,
       "plotOptions": {
        "customPlotOptions": {},
        "displayType": "table",
        "pivotAggregation": null,
        "pivotColumns": null,
        "xColumns": null,
        "yColumns": null
       },
       "removedWidgets": [],
       "schema": [
        {
         "metadata": "{}",
         "name": "BRAND",
         "type": "\"string\""
        },
        {
         "metadata": "{}",
         "name": "total_sale",
         "type": "\"double\""
        },
        {
         "metadata": "{}",
         "name": "rnk",
         "type": "\"integer\""
        }
       ],
       "type": "table"
      }
     },
     "output_type": "display_data"
    }
   ],
   "source": [
    "%sql\n",
    "SELECT BRAND, total_sale, rnk \n",
    "FROM (\n",
    "  SELECT c.BRAND, ROUND(SUM(FINAL_SALE), 3) total_sale, DENSE_RANK()OVER(order by SUM(FINAL_SALE) DESC) as rnk\n",
    "  FROM transactions a \n",
    "  LEFT JOIN users b \n",
    "    on a.USER_ID = b.ID\n",
    "  LEFT JOIN products c \n",
    "    on a.BARCODE = c.BARCODE\n",
    "  WHERE datediff(month, b.CREATED_DATE, current_date()) >= 6\n",
    "  GROUP BY c.BRAND\n",
    ")\n",
    "WHERE rnk <= 5\n",
    "ORDER BY rnk asc"
   ]
  },
  {
   "cell_type": "markdown",
   "metadata": {
    "application/vnd.databricks.v1+cell": {
     "cellMetadata": {},
     "inputWidgets": {},
     "nuid": "4a1cff2a-a11d-47b8-9a55-86b4258b398c",
     "showTitle": false,
     "tableResultSettingsMap": {},
     "title": ""
    }
   },
   "source": [
    "## 2.3 Closed-ended question\n",
    "What is the percentage of sales in the Health & Wellness category by generation?"
   ]
  },
  {
   "cell_type": "code",
   "execution_count": 0,
   "metadata": {
    "application/vnd.databricks.v1+cell": {
     "cellMetadata": {
      "byteLimit": 2048000,
      "implicitDf": true,
      "rowLimit": 10000
     },
     "inputWidgets": {},
     "nuid": "2adc3d4a-b56a-481a-8e26-5e89dd3aef28",
     "showTitle": false,
     "tableResultSettingsMap": {},
     "title": ""
    }
   },
   "outputs": [
    {
     "output_type": "display_data",
     "data": {
      "text/html": [
       "<style scoped>\n",
       "  .table-result-container {\n",
       "    max-height: 300px;\n",
       "    overflow: auto;\n",
       "  }\n",
       "  table, th, td {\n",
       "    border: 1px solid black;\n",
       "    border-collapse: collapse;\n",
       "  }\n",
       "  th, td {\n",
       "    padding: 5px;\n",
       "  }\n",
       "  th {\n",
       "    text-align: left;\n",
       "  }\n",
       "</style><div class='table-result-container'><table class='table-result'><thead style='background-color: white'><tr><th>Generation</th><th>GenerationSales</th><th>TotalSales</th><th>SalesPercentage</th></tr></thead><tbody><tr><td>Baby Boomer</td><td>85.91</td><td>20494.96</td><td>0.419</td></tr><tr><td>Gen X</td><td>38.62</td><td>20494.96</td><td>0.188</td></tr><tr><td>Millennial</td><td>43.15</td><td>20494.96</td><td>0.211</td></tr><tr><td>Other</td><td>20327.28</td><td>20494.96</td><td>99.182</td></tr></tbody></table></div>"
      ]
     },
     "metadata": {
      "application/vnd.databricks.v1+output": {
       "addedWidgets": {},
       "aggData": [],
       "aggError": "",
       "aggOverflow": false,
       "aggSchema": [],
       "aggSeriesLimitReached": false,
       "aggType": "",
       "arguments": {},
       "columnCustomDisplayInfos": {},
       "data": [
        [
         "Baby Boomer",
         85.91,
         20494.96,
         0.419
        ],
        [
         "Gen X",
         38.62,
         20494.96,
         0.188
        ],
        [
         "Millennial",
         43.15,
         20494.96,
         0.211
        ],
        [
         "Other",
         20327.28,
         20494.96,
         99.182
        ]
       ],
       "datasetInfos": [],
       "dbfsResultPath": null,
       "isJsonSchema": true,
       "metadata": {
        "createTempViewForImplicitDf": true,
        "dataframeName": "_sqldf",
        "executionCount": 77
       },
       "overflow": false,
       "plotOptions": {
        "customPlotOptions": {},
        "displayType": "table",
        "pivotAggregation": null,
        "pivotColumns": null,
        "xColumns": null,
        "yColumns": null
       },
       "removedWidgets": [],
       "schema": [
        {
         "metadata": "{}",
         "name": "Generation",
         "type": "\"string\""
        },
        {
         "metadata": "{}",
         "name": "GenerationSales",
         "type": "\"double\""
        },
        {
         "metadata": "{}",
         "name": "TotalSales",
         "type": "\"double\""
        },
        {
         "metadata": "{}",
         "name": "SalesPercentage",
         "type": "\"double\""
        }
       ],
       "type": "table"
      }
     },
     "output_type": "display_data"
    }
   ],
   "source": [
    "%sql\n",
    "WITH GenerationSales AS (\n",
    "    SELECT \n",
    "        CASE\n",
    "            WHEN YEAR(b.BIRTH_DATE) BETWEEN 1946 AND 1964 THEN 'Baby Boomer'\n",
    "            WHEN YEAR(b.BIRTH_DATE) BETWEEN 1965 AND 1980 THEN 'Gen X'\n",
    "            WHEN YEAR(b.BIRTH_DATE) BETWEEN 1981 AND 1996 THEN 'Millennial'\n",
    "            WHEN YEAR(b.BIRTH_DATE) BETWEEN 1997 AND 2012 THEN 'Gen Z'\n",
    "            ELSE 'Other'\n",
    "        END AS Generation,\n",
    "        SUM(a.FINAL_SALE) AS GenerationSales\n",
    "    FROM transactions a \n",
    "    LEFT JOIN users b \n",
    "        ON a.USER_ID = b.ID\n",
    "    LEFT JOIN products c \n",
    "        ON a.BARCODE = c.BARCODE\n",
    "    WHERE c.CATEGORY_1 = 'Health & Wellness'\n",
    "    GROUP BY Generation\n",
    "),\n",
    "TotalSales AS (\n",
    "    SELECT SUM(a.FINAL_SALE) AS TotalSales\n",
    "    FROM transactions a \n",
    "    LEFT JOIN users b \n",
    "        ON a.USER_ID = b.ID\n",
    "    LEFT JOIN products c \n",
    "        ON a.BARCODE = c.BARCODE\n",
    "    WHERE c.CATEGORY_1 = 'Health & Wellness'\n",
    ")\n",
    "SELECT \n",
    "    gs.Generation,\n",
    "    round(gs.GenerationSales, 3) as GenerationSales,\n",
    "    round(ts.TotalSales, 3) as TotalSales,\n",
    "    round((gs.GenerationSales / ts.TotalSales) * 100, 3) AS SalesPercentage\n",
    "FROM GenerationSales gs, TotalSales ts\n",
    "ORDER BY gs.Generation;"
   ]
  },
  {
   "cell_type": "markdown",
   "metadata": {
    "application/vnd.databricks.v1+cell": {
     "cellMetadata": {},
     "inputWidgets": {},
     "nuid": "7a64e0e9-250a-4fdd-94c9-9362359adc5b",
     "showTitle": false,
     "tableResultSettingsMap": {},
     "title": ""
    }
   },
   "source": [
    "## 2.4 Open-ended question\n",
    "Which is the leading brand in the Dips & Salsa category?\n",
    "- Assume that we want to only use current existing data to determin which brand is the leading brand. \n",
    "- TOSTITOS is the leading brand in the Dips & Salsa category in 2024 based on its market share. \n",
    "- Its total category count is also the largest. "
   ]
  },
  {
   "cell_type": "code",
   "execution_count": 0,
   "metadata": {
    "application/vnd.databricks.v1+cell": {
     "cellMetadata": {
      "byteLimit": 2048000,
      "implicitDf": true,
      "rowLimit": 10000
     },
     "inputWidgets": {},
     "nuid": "59ab448e-0dd2-457e-9020-50a8d744fca5",
     "showTitle": false,
     "tableResultSettingsMap": {},
     "title": ""
    }
   },
   "outputs": [
    {
     "output_type": "display_data",
     "data": {
      "text/html": [
       "<style scoped>\n",
       "  .table-result-container {\n",
       "    max-height: 300px;\n",
       "    overflow: auto;\n",
       "  }\n",
       "  table, th, td {\n",
       "    border: 1px solid black;\n",
       "    border-collapse: collapse;\n",
       "  }\n",
       "  th, td {\n",
       "    padding: 5px;\n",
       "  }\n",
       "  th {\n",
       "    text-align: left;\n",
       "  }\n",
       "</style><div class='table-result-container'><table class='table-result'><thead style='background-color: white'><tr><th>year</th><th>BRAND</th><th>total_category</th><th>total_sale_quantity</th><th>total_sale</th><th>market_share</th></tr></thead><tbody><tr><td>2024</td><td>TOSTITOS</td><td>66</td><td>56.0</td><td>239.54</td><td>18.962</td></tr><tr><td>2024</td><td>PACE</td><td>48</td><td>38.0</td><td>118.58</td><td>9.387</td></tr><tr><td>2024</td><td>FRITOS</td><td>38</td><td>33.0</td><td>91.73</td><td>7.261</td></tr><tr><td>2024</td><td>HELUVA GOOD!</td><td>30</td><td>20.0</td><td>85.46</td><td>6.765</td></tr><tr><td>2024</td><td>DEAN'S DAIRY DIP</td><td>34</td><td>22.0</td><td>67.97</td><td>5.381</td></tr><tr><td>2024</td><td>null</td><td>10</td><td>7.0</td><td>59.88</td><td>4.74</td></tr><tr><td>2024</td><td>HIDDEN VALLEY RANCH</td><td>18</td><td>13.0</td><td>59.42</td><td>4.704</td></tr><tr><td>2024</td><td>HIDDEN VALLEY</td><td>20</td><td>22.0</td><td>51.24</td><td>4.056</td></tr><tr><td>2024</td><td>HERDEZ</td><td>18</td><td>12.0</td><td>48.32</td><td>3.825</td></tr><tr><td>2024</td><td>PRIVATE LABEL</td><td>18</td><td>13.0</td><td>48.15</td><td>3.812</td></tr><tr><td>2024</td><td>KIRKLAND SIGNATURE</td><td>6</td><td>5.0</td><td>46.96</td><td>3.717</td></tr><tr><td>2024</td><td>GOOD & GATHER</td><td>10</td><td>5.0</td><td>33.5</td><td>2.652</td></tr><tr><td>2024</td><td>SABRA</td><td>14</td><td>13.0</td><td>32.23</td><td>2.551</td></tr><tr><td>2024</td><td>LAY'S</td><td>12</td><td>12.0</td><td>29.9</td><td>2.367</td></tr><tr><td>2024</td><td>MARZETTI</td><td>10</td><td>9.0</td><td>27.88</td><td>2.207</td></tr><tr><td>2024</td><td>NUTELLA</td><td>2</td><td>1.0</td><td>25.96</td><td>2.055</td></tr><tr><td>2024</td><td>MEMBER'S MARK</td><td>6</td><td>6.0</td><td>20.94</td><td>1.658</td></tr><tr><td>2024</td><td>MRS WAGES</td><td>8</td><td>6.0</td><td>19.32</td><td>1.529</td></tr><tr><td>2024</td><td>LITEHOUSE</td><td>6</td><td>5.0</td><td>18.96</td><td>1.501</td></tr><tr><td>2024</td><td>BOAR'S HEAD</td><td>4</td><td>2.0</td><td>18.96</td><td>1.501</td></tr><tr><td>2024</td><td>PRIVATE SELECTION</td><td>4</td><td>2.0</td><td>13.56</td><td>1.073</td></tr><tr><td>2024</td><td>TACO BELL GROCERY</td><td>4</td><td>2.0</td><td>12.9</td><td>1.021</td></tr><tr><td>2024</td><td>GREAT VALUE</td><td>6</td><td>9.0</td><td>10.96</td><td>0.868</td></tr><tr><td>2024</td><td>DEAN'S DAIRY</td><td>6</td><td>5.0</td><td>10.46</td><td>0.828</td></tr><tr><td>2024</td><td>CHI-CHI'S</td><td>4</td><td>2.0</td><td>7.14</td><td>0.565</td></tr><tr><td>2024</td><td>NEWMAN’S OWN</td><td>4</td><td>3.0</td><td>6.8</td><td>0.538</td></tr><tr><td>2024</td><td>BISON</td><td>2</td><td>1.0</td><td>6.58</td><td>0.521</td></tr><tr><td>2024</td><td>MISSION</td><td>2</td><td>1.0</td><td>6.56</td><td>0.519</td></tr><tr><td>2024</td><td>HILAND</td><td>4</td><td>3.0</td><td>5.83</td><td>0.462</td></tr><tr><td>2024</td><td>CREAMLAND DAIRY</td><td>2</td><td>1.0</td><td>5.76</td><td>0.456</td></tr><tr><td>2024</td><td>DAISY</td><td>2</td><td>4.0</td><td>5.58</td><td>0.442</td></tr><tr><td>2024</td><td>SIGNATURE SELECT</td><td>2</td><td>2.0</td><td>5.49</td><td>0.435</td></tr><tr><td>2024</td><td>PRAIRIE FARMS</td><td>6</td><td>6.0</td><td>5.34</td><td>0.423</td></tr><tr><td>2024</td><td>ALWAYS SAVE</td><td>2</td><td>1.0</td><td>3.98</td><td>0.315</td></tr><tr><td>2024</td><td>FRESH CREATIONS</td><td>2</td><td>2.0</td><td>3.69</td><td>0.292</td></tr><tr><td>2024</td><td>O ORGANICS</td><td>2</td><td>2.0</td><td>3.59</td><td>0.284</td></tr><tr><td>2024</td><td>LA PREFERIDA</td><td>2</td><td>2.0</td><td>2.88</td><td>0.228</td></tr><tr><td>2024</td><td>UTZ</td><td>2</td><td>2.0</td><td>1.25</td><td>0.099</td></tr></tbody></table></div>"
      ]
     },
     "metadata": {
      "application/vnd.databricks.v1+output": {
       "addedWidgets": {},
       "aggData": [],
       "aggError": "",
       "aggOverflow": false,
       "aggSchema": [],
       "aggSeriesLimitReached": false,
       "aggType": "",
       "arguments": {},
       "columnCustomDisplayInfos": {},
       "data": [
        [
         2024,
         "TOSTITOS",
         66,
         56.0,
         239.54,
         18.962
        ],
        [
         2024,
         "PACE",
         48,
         38.0,
         118.58,
         9.387
        ],
        [
         2024,
         "FRITOS",
         38,
         33.0,
         91.73,
         7.261
        ],
        [
         2024,
         "HELUVA GOOD!",
         30,
         20.0,
         85.46,
         6.765
        ],
        [
         2024,
         "DEAN'S DAIRY DIP",
         34,
         22.0,
         67.97,
         5.381
        ],
        [
         2024,
         null,
         10,
         7.0,
         59.88,
         4.74
        ],
        [
         2024,
         "HIDDEN VALLEY RANCH",
         18,
         13.0,
         59.42,
         4.704
        ],
        [
         2024,
         "HIDDEN VALLEY",
         20,
         22.0,
         51.24,
         4.056
        ],
        [
         2024,
         "HERDEZ",
         18,
         12.0,
         48.32,
         3.825
        ],
        [
         2024,
         "PRIVATE LABEL",
         18,
         13.0,
         48.15,
         3.812
        ],
        [
         2024,
         "KIRKLAND SIGNATURE",
         6,
         5.0,
         46.96,
         3.717
        ],
        [
         2024,
         "GOOD & GATHER",
         10,
         5.0,
         33.5,
         2.652
        ],
        [
         2024,
         "SABRA",
         14,
         13.0,
         32.23,
         2.551
        ],
        [
         2024,
         "LAY'S",
         12,
         12.0,
         29.9,
         2.367
        ],
        [
         2024,
         "MARZETTI",
         10,
         9.0,
         27.88,
         2.207
        ],
        [
         2024,
         "NUTELLA",
         2,
         1.0,
         25.96,
         2.055
        ],
        [
         2024,
         "MEMBER'S MARK",
         6,
         6.0,
         20.94,
         1.658
        ],
        [
         2024,
         "MRS WAGES",
         8,
         6.0,
         19.32,
         1.529
        ],
        [
         2024,
         "LITEHOUSE",
         6,
         5.0,
         18.96,
         1.501
        ],
        [
         2024,
         "BOAR'S HEAD",
         4,
         2.0,
         18.96,
         1.501
        ],
        [
         2024,
         "PRIVATE SELECTION",
         4,
         2.0,
         13.56,
         1.073
        ],
        [
         2024,
         "TACO BELL GROCERY",
         4,
         2.0,
         12.9,
         1.021
        ],
        [
         2024,
         "GREAT VALUE",
         6,
         9.0,
         10.96,
         0.868
        ],
        [
         2024,
         "DEAN'S DAIRY",
         6,
         5.0,
         10.46,
         0.828
        ],
        [
         2024,
         "CHI-CHI'S",
         4,
         2.0,
         7.14,
         0.565
        ],
        [
         2024,
         "NEWMAN’S OWN",
         4,
         3.0,
         6.8,
         0.538
        ],
        [
         2024,
         "BISON",
         2,
         1.0,
         6.58,
         0.521
        ],
        [
         2024,
         "MISSION",
         2,
         1.0,
         6.56,
         0.519
        ],
        [
         2024,
         "HILAND",
         4,
         3.0,
         5.83,
         0.462
        ],
        [
         2024,
         "CREAMLAND DAIRY",
         2,
         1.0,
         5.76,
         0.456
        ],
        [
         2024,
         "DAISY",
         2,
         4.0,
         5.58,
         0.442
        ],
        [
         2024,
         "SIGNATURE SELECT",
         2,
         2.0,
         5.49,
         0.435
        ],
        [
         2024,
         "PRAIRIE FARMS",
         6,
         6.0,
         5.34,
         0.423
        ],
        [
         2024,
         "ALWAYS SAVE",
         2,
         1.0,
         3.98,
         0.315
        ],
        [
         2024,
         "FRESH CREATIONS",
         2,
         2.0,
         3.69,
         0.292
        ],
        [
         2024,
         "O ORGANICS",
         2,
         2.0,
         3.59,
         0.284
        ],
        [
         2024,
         "LA PREFERIDA",
         2,
         2.0,
         2.88,
         0.228
        ],
        [
         2024,
         "UTZ",
         2,
         2.0,
         1.25,
         0.099
        ]
       ],
       "datasetInfos": [],
       "dbfsResultPath": null,
       "isJsonSchema": true,
       "metadata": {
        "createTempViewForImplicitDf": true,
        "dataframeName": "_sqldf",
        "executionCount": 90
       },
       "overflow": false,
       "plotOptions": {
        "customPlotOptions": {},
        "displayType": "table",
        "pivotAggregation": null,
        "pivotColumns": null,
        "xColumns": null,
        "yColumns": null
       },
       "removedWidgets": [],
       "schema": [
        {
         "metadata": "{}",
         "name": "year",
         "type": "\"integer\""
        },
        {
         "metadata": "{}",
         "name": "BRAND",
         "type": "\"string\""
        },
        {
         "metadata": "{}",
         "name": "total_category",
         "type": "\"long\""
        },
        {
         "metadata": "{}",
         "name": "total_sale_quantity",
         "type": "\"double\""
        },
        {
         "metadata": "{}",
         "name": "total_sale",
         "type": "\"double\""
        },
        {
         "metadata": "{}",
         "name": "market_share",
         "type": "\"double\""
        }
       ],
       "type": "table"
      }
     },
     "output_type": "display_data"
    }
   ],
   "source": [
    "%sql\n",
    "WITH CTE AS (\n",
    "  SELECT sum(FINAL_SALE) as total_sale\n",
    "  FROM transactions a \n",
    "  LEFT JOIN users b \n",
    "    ON a.USER_ID = b.ID\n",
    "  LEFT JOIN products c \n",
    "    ON a.BARCODE = c.BARCODE\n",
    "  WHERE CATEGORY_2 = 'Dips & Salsa'\n",
    ")\n",
    "\n",
    "SELECT YEAR(PURCHASE_DATE) as year\n",
    "  ,BRAND\n",
    "  ,count(CATEGORY_3) as total_category\n",
    "  ,round(sum(case when FINAL_QUANTITY = 'zero' then 0 else FINAL_QUANTITY end), 3) as total_sale_quantity\n",
    "  ,round(sum(FINAL_SALE), 3) as total_sale\n",
    "  ,round(sum(FINAL_SALE)/(select total_sale from CTE)*100.0, 3) as market_share\n",
    "FROM transactions a \n",
    "LEFT JOIN users b \n",
    "    ON a.USER_ID = b.ID\n",
    "LEFT JOIN products c \n",
    "    ON a.BARCODE = c.BARCODE\n",
    "WHERE CATEGORY_2 = 'Dips & Salsa'\n",
    "GROUP BY year, BRAND\n",
    "ORDER BY market_share desc, total_sale desc, total_sale_quantity desc, total_category desc"
   ]
  },
  {
   "cell_type": "markdown",
   "metadata": {
    "application/vnd.databricks.v1+cell": {
     "cellMetadata": {},
     "inputWidgets": {},
     "nuid": "d465e01a-835c-44ab-ac89-0546bc74034a",
     "showTitle": false,
     "tableResultSettingsMap": {},
     "title": ""
    }
   },
   "source": [
    "# 3. Communicate with Stakeholders"
   ]
  },
  {
   "cell_type": "markdown",
   "metadata": {
    "application/vnd.databricks.v1+cell": {
     "cellMetadata": {},
     "inputWidgets": {},
     "nuid": "b642e85f-15bc-444b-8225-608f6e5c931e",
     "showTitle": false,
     "tableResultSettingsMap": {},
     "title": ""
    }
   },
   "source": [
    "Construct an email or slack message that is understandable to a product or business leader who is not familiar with your day-to-day work. Summarize the results of your investigation. Include:\n",
    "1. Key data quality issues and outstanding questions about the data\n",
    "2. One interesting trend in the data\n",
    "3. Use a finding from part 2 or come up with a new insight   \n",
    "4. Request for action: explain what additional help, info, etc. you need to make sense of the data and resolve any outstanding issues"
   ]
  },
  {
   "cell_type": "markdown",
   "metadata": {
    "application/vnd.databricks.v1+cell": {
     "cellMetadata": {
      "byteLimit": 2048000,
      "rowLimit": 10000
     },
     "inputWidgets": {},
     "nuid": "b369ccdc-5982-4cba-80bf-511aa1130e8e",
     "showTitle": false,
     "tableResultSettingsMap": {},
     "title": ""
    }
   },
   "source": [
    "Hi XXX,\n",
    "\n",
    "I wanted to share some key findings and observations from my recent investigation into our data. Below is a summary of the data quality issues we are currently facing, an interesting trend I discovered, and some action points that would help improve our data quality and potentially drive business decisions.\n",
    "\n",
    "#### 1. Key Data Quality Issues and Outstanding Questions\n",
    "\n",
    "There are several data quality challenges that I’ve identified in the **user**, **product**, and **transaction** tables:\n",
    "\n",
    "- **Missing Records:**\n",
    "  - We have numerous missing records across the users, product, and transaction tables, which are causing gaps in our data.\n",
    "  \n",
    "- **Issue 1 - Missing Barcode Information:**\n",
    "  - Both the product and transaction tables have significant gaps in barcode information. This makes it difficult to link product details properly and track sales accurately.\n",
    "  \n",
    "- **Issue 2 - Duplicate Barcode with Different Brand Names:**\n",
    "  - There are cases where the same barcode is associated with different brand names, leading to inconsistent data. This is a potential issue for accurate product tracking and reporting.\n",
    "  \n",
    "- **Issue 3 - Duplicate Records in `FINAL_SALE`:**\n",
    "  - We also found instances of duplicate records where all fields are identical except for the `FINAL_SALE` values. This is likely to lead to inflated sales figures and errors in reporting.\n",
    "  \n",
    "**Outstanding Questions:**\n",
    "- I’d like to understand how we can integrate the barcode data with the correct brand information to resolve the issue of mismatched barcodes.\n",
    "- We need to discuss how we can build an automated script to detect and de-duplicate these duplicate records in the transaction table. This would help maintain consistent data quality and reduce errors moving forward.\n",
    "\n",
    "#### 2. Interesting Trend in the Data\n",
    "\n",
    "One interesting trend I uncovered involves **TOSTITO**, a brand within the Dips and Salsa category:\n",
    "\n",
    "- **TOSTITO** leads with the most categories in this category, with **66 distinct categories**. This could present a strong opportunity for partnership, and we may want to explore deeper collaboration or promotional opportunities with them.\n",
    "\n",
    "Additionally, I noticed that **some brands have more than 10 categories** in our data. We could explore partnerships with these brands to potentially increase sales and revenue.\n",
    "\n",
    "#### 3. Request for Action\n",
    "\n",
    "In order to address the data quality issues and maximize the potential from these insights, I would appreciate some help in the following areas:\n",
    "- Clarifying how we can resolve the barcode-brand mismatches. Is there a specific source or process we can rely on to validate and integrate this data?\n",
    "- Discussing how we can automate the de-duplication process for the transaction records. Would you be able to allocate resources or point me to any existing tools or scripts we can leverage?\n",
    "\n",
    "These actions will help ensure that our data is accurate and can be used effectively to drive business decisions.\n",
    "\n",
    "Looking forward to your thoughts and any further direction you can provide.\n",
    "\n",
    "Best regards,    \n",
    "En-Ning"
   ]
  },
  {
   "cell_type": "code",
   "execution_count": 0,
   "metadata": {
    "application/vnd.databricks.v1+cell": {
     "cellMetadata": {},
     "inputWidgets": {},
     "nuid": "2738b3d2-fdc3-49a9-838b-e44e0962b69c",
     "showTitle": false,
     "tableResultSettingsMap": {},
     "title": ""
    }
   },
   "outputs": [],
   "source": []
  }
 ],
 "metadata": {
  "application/vnd.databricks.v1+notebook": {
   "computePreferences": null,
   "dashboards": [],
   "environmentMetadata": {
    "base_environment": "",
    "client": "1"
   },
   "language": "python",
   "notebookMetadata": {
    "mostRecentlyExecutedCommandWithImplicitDF": {
     "commandId": 5287067385692704,
     "dataframes": [
      "_sqldf"
     ]
    },
    "pythonIndentUnit": 2
   },
   "notebookName": "Untitled Notebook 2025-01-16 20:41:04",
   "widgets": {}
  },
  "language_info": {
   "name": "python"
  }
 },
 "nbformat": 4,
 "nbformat_minor": 0
}